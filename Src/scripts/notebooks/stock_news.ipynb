{
 "cells": [
  {
   "cell_type": "code",
   "execution_count": 77,
   "metadata": {},
   "outputs": [
    {
     "name": "stdout",
     "output_type": "stream",
     "text": [
      "[]\n",
      "[{'id': '53b89b5d-de89-35e9-8b09-1d6f3a09d815', 'content': {'id': '53b89b5d-de89-35e9-8b09-1d6f3a09d815', 'contentType': 'VIDEO', 'title': 'Antitrust under Trump: Regulators lock in on Big Tech', 'description': '<p>Antitrust regulators aren\\'t backing down from cases against Big Tech names like <a data-i13n=\"cpos:1;pos:1\" href=\"https://finance.yahoo.com/news/trumps-doj-wants-a-google-breakup-but-is-willing-to-leave-ai-alone-080016759.html\">Alphabet</a> (<a data-i13n=\"cpos:2;pos:1\" href=\"https://finance.yahoo.com/quote/GOOG\">GOOG</a>, <a data-i13n=\"cpos:3;pos:1\" href=\"https://finance.yahoo.com/quote/GOOGL\">GOOGL</a>), Meta Platforms (<a data-i13n=\"cpos:4;pos:1\" href=\"https://finance.yahoo.com/quote/META\">META</a>), Apple (<a data-i13n=\"cpos:5;pos:1\" href=\"https://finance.yahoo.com/quote/AAPL\">AAPL</a>), Amazon (<a data-i13n=\"cpos:6;pos:1\" href=\"https://finance.yahoo.com/quote/AMZN\">AMZN</a>), and Microsoft (<a data-i13n=\"cpos:7;pos:1\" href=\"https://finance.yahoo.com/quote/MSFT\">MSFT</a>) under President Donald Trump\\'s second term.</p>\\n<p>Yahoo Finance Senior Legal Reporter <a data-i13n=\"cpos:8;pos:1\" href=\"https://finance.yahoo.com/author/alexis-keenan/\">Alexis Keenan</a> joins Market Domination Overtime with <a data-i13n=\"cpos:9;pos:1\" href=\"https://finance.yahoo.com/author/julie-hyman/\">Julie Hyman</a> and <a data-i13n=\"cpos:10;pos:1\" href=\"https://finance.yahoo.com/author/myles-udland/\">Myles Udland</a> to break down the US government\\'s ongoing antitrust cases against Big Tech names.</p>\\n<p>To watch more expert insights and analysis on the latest market action, check out more Market Domination Overtime <a data-i13n=\"cpos:11;pos:1\" href=\"https://finance.yahoo.com/videos/series/market-domination-overtime/\">here</a>.</p>', 'summary': \"Antitrust regulators aren't backing down from cases against Big Tech names like Alphabet (GOOG, GOOGL), Meta Platforms (META), Apple (AAPL), Amazon (AMZN), and Microsoft (MSFT) under President Donald Trump's second term. Yahoo Finance Senior Legal Reporter Alexis Keenan joins Market Domination Overtime with Julie Hyman and Myles Udland to break down the US government's ongoing antitrust cases against Big Tech names. To watch more expert insights and analysis on the latest market action, check out more Market Domination Overtime here.\", 'pubDate': '2025-03-14T21:25:08Z', 'displayTime': '', 'isHosted': True, 'bypassModal': False, 'previewUrl': None, 'thumbnail': {'originalUrl': 'https://s.yimg.com/os/creatr-uploaded-images/2025-03/52430e80-0116-11f0-bde9-cb4ba7cb66c6', 'originalWidth': 2740, 'originalHeight': 1539, 'caption': '', 'resolutions': [{'url': 'https://s.yimg.com/uu/api/res/1.2/s072lisxZKQ1_L2eDL774w--~B/aD0xNTM5O3c9Mjc0MDthcHBpZD15dGFjaHlvbg--/https://s.yimg.com/os/creatr-uploaded-images/2025-03/52430e80-0116-11f0-bde9-cb4ba7cb66c6', 'width': 2740, 'height': 1539, 'tag': 'original'}, {'url': 'https://s.yimg.com/uu/api/res/1.2/yAbN1Qid3fkmCpuZ2zfQBQ--~B/Zmk9c3RyaW07aD0xMjg7dz0xNzA7YXBwaWQ9eXRhY2h5b24-/https://s.yimg.com/os/creatr-uploaded-images/2025-03/52430e80-0116-11f0-bde9-cb4ba7cb66c6', 'width': 170, 'height': 128, 'tag': '170x128'}]}, 'provider': {'displayName': 'Yahoo Finance Video', 'url': 'https://finance.yahoo.com/'}, 'canonicalUrl': {'url': 'https://finance.yahoo.com/video/antitrust-under-trump-regulators-lock-212508815.html', 'site': 'finance', 'region': 'US', 'lang': 'en-US'}, 'clickThroughUrl': {'url': 'https://finance.yahoo.com/video/antitrust-under-trump-regulators-lock-212508815.html', 'site': 'finance', 'region': 'US', 'lang': 'en-US'}, 'metadata': {'editorsPick': True}, 'finance': {'premiumFinance': {'isPremiumNews': False, 'isPremiumFreeNews': False}}, 'storyline': {'storylineItems': [{'content': {'id': 'aa382e73-42e4-3552-ab3e-b38e8088ad2b', 'contentType': 'STORY', 'isHosted': True, 'title': 'ChatGPT: Everything you need to know about the AI-powered chatbot', 'thumbnail': None, 'provider': {'displayName': 'TechCrunch', 'sourceId': 'techcrunch_for_finance_733'}, 'previewUrl': None, 'providerContentUrl': 'https://techcrunch.com/2025/03/14/chatgpt-everything-to-know-about-the-ai-chatbot/', 'canonicalUrl': {'url': 'https://techcrunch.com/2025/03/14/chatgpt-everything-to-know-about-the-ai-chatbot/'}, 'clickThroughUrl': {'url': 'https://finance.yahoo.com/news/chatgpt-everything-know-ai-powered-210339686.html'}}}, {'content': {'id': 'c2eb580d-2633-3b32-b983-d81b375bbc21', 'contentType': 'STORY', 'isHosted': True, 'title': 'No one knows what the hell an AI agent is', 'thumbnail': None, 'provider': {'displayName': 'TechCrunch', 'sourceId': 'techcrunch_for_finance_733'}, 'previewUrl': None, 'providerContentUrl': 'https://techcrunch.com/2025/03/14/no-one-knows-what-the-hell-an-ai-agent-is/', 'canonicalUrl': {'url': 'https://techcrunch.com/2025/03/14/no-one-knows-what-the-hell-an-ai-agent-is/'}, 'clickThroughUrl': {'url': 'https://finance.yahoo.com/news/no-one-knows-hell-ai-163000577.html'}}}]}}}, {'id': 'f471b541-647a-3dd4-aaca-195c27555c02', 'content': {'id': 'f471b541-647a-3dd4-aaca-195c27555c02', 'contentType': 'STORY', 'title': 'UBS Reiterates ‘Buy’ on Microsoft Corporation (MSFT) Despite Azure Growth Concerns', 'description': '', 'summary': 'We recently compiled a list of the 10 High Flying AI Stocks This Week. In this article, we are going to take a look at where Microsoft Corporation (NASDAQ:MSFT) stands against the other AI stocks. Celestial AI™, creator of the Photonic Fabric™ optical interconnect technology platform, recently announced that it has raised an additional $250 million […]', 'pubDate': '2025-03-14T22:22:18Z', 'displayTime': '2025-03-14T22:22:18Z', 'isHosted': True, 'bypassModal': False, 'previewUrl': None, 'thumbnail': {'originalUrl': 'https://media.zenfs.com/en/insidermonkey.com/ae3cb2a93ad8e5ddf6f94148e71f74b9', 'originalWidth': 1456, 'originalHeight': 816, 'caption': 'Jim Cramer: \"Microsoft (MSFT) Missed Last Time - Can They Say Anything to Change That?\"', 'resolutions': [{'url': 'https://s.yimg.com/uu/api/res/1.2/FPV7LMJx9t7xViBmxMrZWw--~B/aD04MTY7dz0xNDU2O2FwcGlkPXl0YWNoeW9u/https://media.zenfs.com/en/insidermonkey.com/ae3cb2a93ad8e5ddf6f94148e71f74b9', 'width': 1456, 'height': 816, 'tag': 'original'}, {'url': 'https://s.yimg.com/uu/api/res/1.2/7FVXaC.qNKFr6Wz4v4sdRQ--~B/Zmk9c3RyaW07aD0xMjg7dz0xNzA7YXBwaWQ9eXRhY2h5b24-/https://media.zenfs.com/en/insidermonkey.com/ae3cb2a93ad8e5ddf6f94148e71f74b9', 'width': 170, 'height': 128, 'tag': '170x128'}]}, 'provider': {'displayName': 'Insider Monkey', 'url': 'http://www.insidermonkey.com'}, 'canonicalUrl': {'url': 'https://finance.yahoo.com/news/ubs-reiterates-buy-microsoft-corporation-222218371.html', 'site': 'finance', 'region': 'US', 'lang': 'en-US'}, 'clickThroughUrl': {'url': 'https://finance.yahoo.com/news/ubs-reiterates-buy-microsoft-corporation-222218371.html', 'site': 'finance', 'region': 'US', 'lang': 'en-US'}, 'metadata': {'editorsPick': False}, 'finance': {'premiumFinance': {'isPremiumNews': False, 'isPremiumFreeNews': False}}, 'storyline': None}}, {'id': '6dd03b4a-a379-3c96-8641-c87010a3a3a6', 'content': {'id': '6dd03b4a-a379-3c96-8641-c87010a3a3a6', 'contentType': 'STORY', 'title': 'Microsoft, Ferrari, and Other High Quality Stocks to Weather the Market Selloff', 'description': '', 'summary': 'As the outlook for stocks grows increasingly uncertain, investors should seek out companies with strong, stable profits and solid business franchises—the factor known as quality.  After an initial surge of optimism that President Donald Trump would enact growth-fueling tax cuts, fears over a tariff war with Mexico and China sent stocks tumbling.', 'pubDate': '2025-03-14T20:36:00Z', 'displayTime': '2025-03-14T20:36:00Z', 'isHosted': False, 'bypassModal': False, 'previewUrl': 'https://finance.yahoo.com/m/6dd03b4a-a379-3c96-8641-c87010a3a3a6/microsoft-ferrari-and-other.html', 'thumbnail': {'originalUrl': 'https://media.zenfs.com/en/Barrons.com/a19775ee423e7ab050ea975da55c5ede', 'originalWidth': 1280, 'originalHeight': 640, 'caption': '', 'resolutions': [{'url': 'https://s.yimg.com/uu/api/res/1.2/qaFmwJuPPEivFW6K0iBdXw--~B/aD02NDA7dz0xMjgwO2FwcGlkPXl0YWNoeW9u/https://media.zenfs.com/en/Barrons.com/a19775ee423e7ab050ea975da55c5ede', 'width': 1280, 'height': 640, 'tag': 'original'}, {'url': 'https://s.yimg.com/uu/api/res/1.2/ZHjhDKS8bk71uOp6uun3yA--~B/Zmk9c3RyaW07aD0xMjg7dz0xNzA7YXBwaWQ9eXRhY2h5b24-/https://media.zenfs.com/en/Barrons.com/a19775ee423e7ab050ea975da55c5ede', 'width': 170, 'height': 128, 'tag': '170x128'}]}, 'provider': {'displayName': 'Barrons.com', 'url': 'http://www.barrons.com/'}, 'canonicalUrl': {'url': 'https://www.barrons.com/articles/microsoft-ferrari-chipotle-walmart-quality-stocks-50086756?siteid=yhoof2&yptr=yahoo', 'site': 'finance', 'region': 'US', 'lang': 'en-US'}, 'clickThroughUrl': None, 'metadata': {'editorsPick': False}, 'finance': {'premiumFinance': {'isPremiumNews': False, 'isPremiumFreeNews': False}}, 'storyline': None}}, {'id': '36f713f1-e761-3bef-95b5-02f6aad67081', 'content': {'id': '36f713f1-e761-3bef-95b5-02f6aad67081', 'contentType': 'STORY', 'title': 'Microsoft Stock Marks 7th Straight Down Week, Plumbs New Low In 2025; Is MSFT A Buy In March, Or Is It A Sell?', 'description': '', 'summary': \"Is Microsoft a buy or perhaps even a sell in March?  This story on the legendary growth company examines key measures such as profits and sales, relative strength in the market, and the quantity and quality of fund ownership in Microsoft stock.  During Monday's bearish trading session, Microsoft stock slid 3.3% in significantly above-average volume and made a year-to-date low of 377.22.\", 'pubDate': '2025-03-14T20:30:19Z', 'displayTime': '2025-03-14T20:30:19Z', 'isHosted': False, 'bypassModal': False, 'previewUrl': 'https://finance.yahoo.com/m/36f713f1-e761-3bef-95b5-02f6aad67081/microsoft-stock-marks-7th.html', 'thumbnail': {'originalUrl': 'https://media.zenfs.com/en/ibd.com/b9f70b1bcd23bee9f2f3639b70b765a8', 'originalWidth': 1000, 'originalHeight': 563, 'caption': '', 'resolutions': [{'url': 'https://s.yimg.com/uu/api/res/1.2/ibewfdyAwUSGE8M4zQsC0Q--~B/aD01NjM7dz0xMDAwO2FwcGlkPXl0YWNoeW9u/https://media.zenfs.com/en/ibd.com/b9f70b1bcd23bee9f2f3639b70b765a8', 'width': 1000, 'height': 563, 'tag': 'original'}, {'url': 'https://s.yimg.com/uu/api/res/1.2/0GripddyyTELvs9xRYJJeA--~B/Zmk9c3RyaW07aD0xMjg7dz0xNzA7YXBwaWQ9eXRhY2h5b24-/https://media.zenfs.com/en/ibd.com/b9f70b1bcd23bee9f2f3639b70b765a8', 'width': 170, 'height': 128, 'tag': '170x128'}]}, 'provider': {'displayName': \"Investor's Business Daily\", 'url': 'http://www.investors.com/'}, 'canonicalUrl': {'url': 'https://www.investors.com/research/microsoft-msft-stock-buy-sell-in-march/?src=A00220&yptr=yahoo', 'site': 'finance', 'region': 'US', 'lang': 'en-US'}, 'clickThroughUrl': None, 'metadata': {'editorsPick': False}, 'finance': {'premiumFinance': {'isPremiumNews': False, 'isPremiumFreeNews': False}}, 'storyline': None}}, {'id': '666371a0-4505-3d25-96f2-8ea8e0a130ec', 'content': {'id': '666371a0-4505-3d25-96f2-8ea8e0a130ec', 'contentType': 'STORY', 'title': 'Energy Execs Warn Electricians Are Hard to Find. It Could Slow the AI Data Center Boom.', 'description': '', 'summary': 'Data centers have sophisticated electrical connections and cooling systems. Companies need electricians to manage all of it, but they’re in short supply.', 'pubDate': '2025-03-14T20:26:00Z', 'displayTime': '2025-03-14T20:26:00Z', 'isHosted': False, 'bypassModal': False, 'previewUrl': 'https://finance.yahoo.com/m/666371a0-4505-3d25-96f2-8ea8e0a130ec/energy-execs-warn.html', 'thumbnail': {'originalUrl': 'https://media.zenfs.com/en/Barrons.com/ff2da3675570822de8bbdcf226e0fd7c', 'originalWidth': 1280, 'originalHeight': 640, 'caption': '', 'resolutions': [{'url': 'https://s.yimg.com/uu/api/res/1.2/TvtPi57Bid3D1bez0TdEmw--~B/aD02NDA7dz0xMjgwO2FwcGlkPXl0YWNoeW9u/https://media.zenfs.com/en/Barrons.com/ff2da3675570822de8bbdcf226e0fd7c', 'width': 1280, 'height': 640, 'tag': 'original'}, {'url': 'https://s.yimg.com/uu/api/res/1.2/PmR81OM2ZudtBEIZQTmxng--~B/Zmk9c3RyaW07aD0xMjg7dz0xNzA7YXBwaWQ9eXRhY2h5b24-/https://media.zenfs.com/en/Barrons.com/ff2da3675570822de8bbdcf226e0fd7c', 'width': 170, 'height': 128, 'tag': '170x128'}]}, 'provider': {'displayName': 'Barrons.com', 'url': 'http://www.barrons.com/'}, 'canonicalUrl': {'url': 'https://www.barrons.com/articles/electricians-ai-shortage-blackrock-microsoft-db2fe5bc?siteid=yhoof2&yptr=yahoo', 'site': 'finance', 'region': 'US', 'lang': 'en-US'}, 'clickThroughUrl': None, 'metadata': {'editorsPick': False}, 'finance': {'premiumFinance': {'isPremiumNews': False, 'isPremiumFreeNews': False}}, 'storyline': None}}, {'id': '0fbacb6a-4fb9-3127-854c-26affa64f1fa', 'content': {'id': '0fbacb6a-4fb9-3127-854c-26affa64f1fa', 'contentType': 'STORY', 'title': 'Microsoft Corporation (NASDAQ:MSFT) Upgraded to ‘Buy’ as AI Investment Strategy Gains Traction', 'description': '', 'summary': 'We recently published a list of 10 AI Stocks On Wall Street’s Radar. In this article, we are going to take a look at where Microsoft Corporation (NASDAQ:MSFT) stands against other AI stocks that are on Wall Street’s radar today. Unlike other companies, OpenAI does not struggle with market demand; noted Oliver Jay, managing director […]', 'pubDate': '2025-03-14T20:14:45Z', 'displayTime': '2025-03-14T20:14:45Z', 'isHosted': True, 'bypassModal': False, 'previewUrl': None, 'thumbnail': {'originalUrl': 'https://media.zenfs.com/en/insidermonkey.com/8357d4801c2f5a834455cbcc99383b11', 'originalWidth': 4288, 'originalHeight': 2848, 'caption': \"Microsoft Corporation (NASDAQ:MSFT) Upgraded to 'Buy' as AI Investment Strategy Gains Traction\", 'resolutions': [{'url': 'https://s.yimg.com/uu/api/res/1.2/EheKJXdeS8GFjKsYs8U2pg--~B/aD0yODQ4O3c9NDI4ODthcHBpZD15dGFjaHlvbg--/https://media.zenfs.com/en/insidermonkey.com/8357d4801c2f5a834455cbcc99383b11', 'width': 4288, 'height': 2848, 'tag': 'original'}, {'url': 'https://s.yimg.com/uu/api/res/1.2/KNpw.xxXpLvppi15Ai7h.w--~B/Zmk9c3RyaW07aD0xMjg7dz0xNzA7YXBwaWQ9eXRhY2h5b24-/https://media.zenfs.com/en/insidermonkey.com/8357d4801c2f5a834455cbcc99383b11', 'width': 170, 'height': 128, 'tag': '170x128'}]}, 'provider': {'displayName': 'Insider Monkey', 'url': 'http://www.insidermonkey.com'}, 'canonicalUrl': {'url': 'https://finance.yahoo.com/news/microsoft-corporation-nasdaq-msft-upgraded-201445899.html', 'site': 'finance', 'region': 'US', 'lang': 'en-US'}, 'clickThroughUrl': {'url': 'https://finance.yahoo.com/news/microsoft-corporation-nasdaq-msft-upgraded-201445899.html', 'site': 'finance', 'region': 'US', 'lang': 'en-US'}, 'metadata': {'editorsPick': False}, 'finance': {'premiumFinance': {'isPremiumNews': False, 'isPremiumFreeNews': False}}, 'storyline': None}}, {'id': 'ece0b6f3-6ab7-3271-83b6-39e0307e982f', 'content': {'id': 'ece0b6f3-6ab7-3271-83b6-39e0307e982f', 'contentType': 'STORY', 'title': 'The Nasdaq Just Hit Correction Territory: Buy This Unstoppable Stock at a Discount', 'description': '', 'summary': 'Down over 13% from its all-time high (achieved in December), the Nasdaq Composite\\xa0is officially in a correction, which is defined as a drawdown of at least 10%.  After falling by 4% on Monday, the Nasdaq Composite ticked down again on Tuesday as the broader market sell-off intensified across the major indexes.  Major tech stocks like Microsoft (NASDAQ: MSFT) and Apple are down 10% and 12%, respectively.', 'pubDate': '2025-03-14T19:30:00Z', 'displayTime': '2025-03-14T19:30:00Z', 'isHosted': True, 'bypassModal': False, 'previewUrl': None, 'thumbnail': {'originalUrl': 'https://media.zenfs.com/en/motleyfool.com/8bd1977dae01edc0ea578724ba6283d3', 'originalWidth': 1201, 'originalHeight': 804, 'caption': 'A person working on a laptop computer while sitting at a desk by a window. ', 'resolutions': [{'url': 'https://s.yimg.com/uu/api/res/1.2/2OspDIkIAGni.iEB7D1t9Q--~B/aD04MDQ7dz0xMjAxO2FwcGlkPXl0YWNoeW9u/https://media.zenfs.com/en/motleyfool.com/8bd1977dae01edc0ea578724ba6283d3', 'width': 1201, 'height': 804, 'tag': 'original'}, {'url': 'https://s.yimg.com/uu/api/res/1.2/Mo5dcpJToLA2fl.JVEX4dg--~B/Zmk9c3RyaW07aD0xMjg7dz0xNzA7YXBwaWQ9eXRhY2h5b24-/https://media.zenfs.com/en/motleyfool.com/8bd1977dae01edc0ea578724ba6283d3', 'width': 170, 'height': 128, 'tag': '170x128'}]}, 'provider': {'displayName': 'Motley Fool', 'url': 'http://www.fool.com/'}, 'canonicalUrl': {'url': 'https://www.fool.com/investing/2025/03/14/nasdaq-correction-buy-growth-stock-microsoft/?source=eptyholnk0000202&utm_source=yahoo-host-full&utm_medium=feed&utm_campaign=article&referring_guid=39e707e1-b1a6-4c7e-b46e-943d9736f04b', 'site': 'finance', 'region': 'US', 'lang': 'en-US'}, 'clickThroughUrl': {'url': 'https://finance.yahoo.com/news/nasdaq-just-hit-correction-territory-193000756.html', 'site': 'finance', 'region': 'US', 'lang': 'en-US'}, 'metadata': {'editorsPick': False}, 'finance': {'premiumFinance': {'isPremiumNews': False, 'isPremiumFreeNews': False}}, 'storyline': None}}, {'id': 'e15e623f-00d4-3e3f-9ba8-38e3e6697ce0', 'content': {'id': 'e15e623f-00d4-3e3f-9ba8-38e3e6697ce0', 'contentType': 'STORY', 'title': 'The Mag 7 Stocks Have Gotten Crushed. Buy These 4 Now.', 'description': '', 'summary': 'Amazon.com may be the best bet among the Magnificent Seven. These other three stocks look attractive, too.', 'pubDate': '2025-03-14T19:28:00Z', 'displayTime': '2025-03-14T19:28:00Z', 'isHosted': False, 'bypassModal': False, 'previewUrl': 'https://finance.yahoo.com/m/e15e623f-00d4-3e3f-9ba8-38e3e6697ce0/the-mag-7-stocks-have-gotten.html', 'thumbnail': {'originalUrl': 'https://media.zenfs.com/en/Barrons.com/cd77a65fe8f9ed28af947363e2eebe80', 'originalWidth': 1280, 'originalHeight': 640, 'caption': '', 'resolutions': [{'url': 'https://s.yimg.com/uu/api/res/1.2/LOvzOAlbE3IK.m7PRWVB0Q--~B/aD02NDA7dz0xMjgwO2FwcGlkPXl0YWNoeW9u/https://media.zenfs.com/en/Barrons.com/cd77a65fe8f9ed28af947363e2eebe80', 'width': 1280, 'height': 640, 'tag': 'original'}, {'url': 'https://s.yimg.com/uu/api/res/1.2/_7Y2WMpX6oWrUWSyk5I75A--~B/Zmk9c3RyaW07aD0xMjg7dz0xNzA7YXBwaWQ9eXRhY2h5b24-/https://media.zenfs.com/en/Barrons.com/cd77a65fe8f9ed28af947363e2eebe80', 'width': 170, 'height': 128, 'tag': '170x128'}]}, 'provider': {'displayName': 'Barrons.com', 'url': 'http://www.barrons.com/'}, 'canonicalUrl': {'url': 'https://www.barrons.com/articles/buy-amazon-nvidia-meta-alphabet-mag-7-stocks-c2542025?siteid=yhoof2&yptr=yahoo', 'site': 'finance', 'region': 'US', 'lang': 'en-US'}, 'clickThroughUrl': None, 'metadata': {'editorsPick': False}, 'finance': {'premiumFinance': {'isPremiumNews': False, 'isPremiumFreeNews': False}}, 'storyline': None}}, {'id': '4205eaa9-f620-3a0b-a81a-0e82c7c9fd0b', 'content': {'id': '4205eaa9-f620-3a0b-a81a-0e82c7c9fd0b', 'contentType': 'STORY', 'title': 'Magnificent Seven Stocks: Nvidia, Meta, Tesla Rally', 'description': '', 'summary': 'Dubbed the Magnificent Seven stocks, Apple, Microsoft, Google parent Alphabet, Amazon.com, Nvidia, Meta Platforms and Tesla lived up to their name in 2024 with solid gains. Through the first two months of 2025, however, performance for these mega-cap stocks has been mostly negative thus far.', 'pubDate': '2025-03-14T18:27:42Z', 'displayTime': '2025-03-14T18:27:42Z', 'isHosted': False, 'bypassModal': False, 'previewUrl': 'https://finance.yahoo.com/m/4205eaa9-f620-3a0b-a81a-0e82c7c9fd0b/magnificent-seven-stocks-.html', 'thumbnail': {'originalUrl': 'https://media.zenfs.com/en/ibd.com/0682fdd5dad13df00d702863d79378a1', 'originalWidth': 1000, 'originalHeight': 563, 'caption': '', 'resolutions': [{'url': 'https://s.yimg.com/uu/api/res/1.2/dH2T4UlHg7A40njz2aVZLw--~B/aD01NjM7dz0xMDAwO2FwcGlkPXl0YWNoeW9u/https://media.zenfs.com/en/ibd.com/0682fdd5dad13df00d702863d79378a1', 'width': 1000, 'height': 563, 'tag': 'original'}, {'url': 'https://s.yimg.com/uu/api/res/1.2/uNyO8ptuWsHDEOneeaLn9A--~B/Zmk9c3RyaW07aD0xMjg7dz0xNzA7YXBwaWQ9eXRhY2h5b24-/https://media.zenfs.com/en/ibd.com/0682fdd5dad13df00d702863d79378a1', 'width': 170, 'height': 128, 'tag': '170x128'}]}, 'provider': {'displayName': \"Investor's Business Daily\", 'url': 'http://www.investors.com/'}, 'canonicalUrl': {'url': 'https://www.investors.com/research/magnificent-seven-stocks-march-2025/?src=A00220&yptr=yahoo', 'site': 'finance', 'region': 'US', 'lang': 'en-US'}, 'clickThroughUrl': None, 'metadata': {'editorsPick': False}, 'finance': {'premiumFinance': {'isPremiumNews': False, 'isPremiumFreeNews': False}}, 'storyline': None}}, {'id': '662fcf06-54aa-30f5-a4fb-84582bf71ba4', 'content': {'id': '662fcf06-54aa-30f5-a4fb-84582bf71ba4', 'contentType': 'STORY', 'title': 'Billions In AI Capex May Already Be Paying Off. How We Know.', 'description': '', 'summary': 'A new IPO filing from start-up CoreWeave suggests that every dollar put into the AI cloud is quickly paying off thanks to rapid growth rates in the business.', 'pubDate': '2025-03-14T17:50:00Z', 'displayTime': '2025-03-14T17:50:00Z', 'isHosted': False, 'bypassModal': False, 'previewUrl': 'https://finance.yahoo.com/m/662fcf06-54aa-30f5-a4fb-84582bf71ba4/billions-in-ai-capex-may.html', 'thumbnail': {'originalUrl': 'https://media.zenfs.com/en/Barrons.com/b33bda8ea08a63642347714972fda1f9', 'originalWidth': 1280, 'originalHeight': 640, 'caption': '', 'resolutions': [{'url': 'https://s.yimg.com/uu/api/res/1.2/QyCfIWH7gJaxnyXJQiEEuQ--~B/aD02NDA7dz0xMjgwO2FwcGlkPXl0YWNoeW9u/https://media.zenfs.com/en/Barrons.com/b33bda8ea08a63642347714972fda1f9', 'width': 1280, 'height': 640, 'tag': 'original'}, {'url': 'https://s.yimg.com/uu/api/res/1.2/eBIk8.7zHBlKww0G4CixkA--~B/Zmk9c3RyaW07aD0xMjg7dz0xNzA7YXBwaWQ9eXRhY2h5b24-/https://media.zenfs.com/en/Barrons.com/b33bda8ea08a63642347714972fda1f9', 'width': 170, 'height': 128, 'tag': '170x128'}]}, 'provider': {'displayName': 'Barrons.com', 'url': 'http://www.barrons.com/'}, 'canonicalUrl': {'url': 'https://www.barrons.com/articles/ai-stocks-nvidia-amazon-microsoft-coreweave-ipo-ddee09ff?siteid=yhoof2&yptr=yahoo', 'site': 'finance', 'region': 'US', 'lang': 'en-US'}, 'clickThroughUrl': None, 'metadata': {'editorsPick': False}, 'finance': {'premiumFinance': {'isPremiumNews': False, 'isPremiumFreeNews': False}}, 'storyline': None}}]\n"
     ]
    }
   ],
   "source": [
    "import os\n",
    "import requests\n",
    "import yfinance as yf\n",
    "import pandas as pd\n",
    "import sqlite3\n",
    "from sqlalchemy import create_engine\n",
    "from get_stock_data import get_list_of_tickers_in_db\n",
    "import path_constants\n",
    "import time\n",
    "from dotenv import load_dotenv\n",
    "\n",
    "\n",
    "# PATH_TO_DB_WITH_YF_NEWS = path_constants.PATH_TO_DB_WITH_YF_NEWS\n",
    "# PATH_TO_DB_PRICE_DATA = path_constants.PATH_TO_DB_PRICE_DATA\n",
    "# PATH_TO_DB_WITH_NEWS_API_ORG_NEWS = path_constants.PATH_TO_DB_WITH_NEWS_API_ORG_NEWS\n",
    "\n",
    "# PATH_TO_NEWS_API_ORG_API_KEY = path_constants.PATH_TO_NEWS_API_ORG_API_KEY\n",
    "# NEWS_API_TOP_BUSINESS_HEADLINES_TABLE_NAME = path_constants.NEWS_API_TOP_BUSINESS_HEADLINES_TABLE_NAME\n",
    "\n",
    "\n",
    "# list_of_tickers = get_list_of_tickers_in_db(PATH_TO_DB_PRICE_DATA)\n",
    "    \n",
    "list_news = []\n",
    "# for ticker in list_of_tickers:\n",
    "#     time.sleep(0.0625)\n",
    "    \n",
    "#     data = yf.Ticker(ticker)\n",
    "    \n",
    "#     if(data.news):\n",
    "        \n",
    "#         df = pd.DataFrame.from_dict(data.news)\n",
    "#         print(df)\n",
    "#         list_news.append(df)\n",
    "        \n",
    "#         # if \"thumbnail\" in df.columns:\n",
    "#         #     columns = [\"thumbnail\"]\n",
    "            \n",
    "            \n",
    "#         #     df = df.drop(columns, axis=1)\n",
    "        \n",
    "#         # df[\"relatedTickers\"] = df[\"relatedTickers\"].astype(str)\n",
    "        # print(df[\"relatedTickers\"])\n",
    "        \n",
    "print(list_news)\n",
    "\n",
    "data = yf.Ticker(\"MSFT\")\n",
    "# pd.DataFrame.from_dict\n",
    "news = data.news\n",
    "print(news)\n",
    "# print(news[\"relatedTickers\"])\n",
    "\n",
    "df = pd.DataFrame.from_dict(news)\n",
    "\n",
    "\n"
   ]
  },
  {
   "cell_type": "code",
   "execution_count": 78,
   "metadata": {},
   "outputs": [
    {
     "name": "stdout",
     "output_type": "stream",
     "text": [
      "                                     id  \\\n",
      "0  53b89b5d-de89-35e9-8b09-1d6f3a09d815   \n",
      "1  f471b541-647a-3dd4-aaca-195c27555c02   \n",
      "2  6dd03b4a-a379-3c96-8641-c87010a3a3a6   \n",
      "3  36f713f1-e761-3bef-95b5-02f6aad67081   \n",
      "4  666371a0-4505-3d25-96f2-8ea8e0a130ec   \n",
      "5  0fbacb6a-4fb9-3127-854c-26affa64f1fa   \n",
      "6  ece0b6f3-6ab7-3271-83b6-39e0307e982f   \n",
      "7  e15e623f-00d4-3e3f-9ba8-38e3e6697ce0   \n",
      "8  4205eaa9-f620-3a0b-a81a-0e82c7c9fd0b   \n",
      "9  662fcf06-54aa-30f5-a4fb-84582bf71ba4   \n",
      "\n",
      "                                             content  \n",
      "0  {'id': '53b89b5d-de89-35e9-8b09-1d6f3a09d815',...  \n",
      "1  {'id': 'f471b541-647a-3dd4-aaca-195c27555c02',...  \n",
      "2  {'id': '6dd03b4a-a379-3c96-8641-c87010a3a3a6',...  \n",
      "3  {'id': '36f713f1-e761-3bef-95b5-02f6aad67081',...  \n",
      "4  {'id': '666371a0-4505-3d25-96f2-8ea8e0a130ec',...  \n",
      "5  {'id': '0fbacb6a-4fb9-3127-854c-26affa64f1fa',...  \n",
      "6  {'id': 'ece0b6f3-6ab7-3271-83b6-39e0307e982f',...  \n",
      "7  {'id': 'e15e623f-00d4-3e3f-9ba8-38e3e6697ce0',...  \n",
      "8  {'id': '4205eaa9-f620-3a0b-a81a-0e82c7c9fd0b',...  \n",
      "9  {'id': '662fcf06-54aa-30f5-a4fb-84582bf71ba4',...  \n",
      "10\n",
      "0    {'id': '53b89b5d-de89-35e9-8b09-1d6f3a09d815',...\n",
      "1    {'id': 'f471b541-647a-3dd4-aaca-195c27555c02',...\n",
      "2    {'id': '6dd03b4a-a379-3c96-8641-c87010a3a3a6',...\n",
      "3    {'id': '36f713f1-e761-3bef-95b5-02f6aad67081',...\n",
      "4    {'id': '666371a0-4505-3d25-96f2-8ea8e0a130ec',...\n",
      "5    {'id': '0fbacb6a-4fb9-3127-854c-26affa64f1fa',...\n",
      "6    {'id': 'ece0b6f3-6ab7-3271-83b6-39e0307e982f',...\n",
      "7    {'id': 'e15e623f-00d4-3e3f-9ba8-38e3e6697ce0',...\n",
      "8    {'id': '4205eaa9-f620-3a0b-a81a-0e82c7c9fd0b',...\n",
      "9    {'id': '662fcf06-54aa-30f5-a4fb-84582bf71ba4',...\n",
      "Name: content, dtype: object\n"
     ]
    }
   ],
   "source": [
    "print(df)\n",
    "print(len(df))\n",
    "print(df[\"content\"])"
   ]
  },
  {
   "cell_type": "code",
   "execution_count": 79,
   "metadata": {},
   "outputs": [
    {
     "name": "stdout",
     "output_type": "stream",
     "text": [
      "{'id': '53b89b5d-de89-35e9-8b09-1d6f3a09d815', 'content': {'id': '53b89b5d-de89-35e9-8b09-1d6f3a09d815', 'contentType': 'VIDEO', 'title': 'Antitrust under Trump: Regulators lock in on Big Tech', 'description': '<p>Antitrust regulators aren\\'t backing down from cases against Big Tech names like <a data-i13n=\"cpos:1;pos:1\" href=\"https://finance.yahoo.com/news/trumps-doj-wants-a-google-breakup-but-is-willing-to-leave-ai-alone-080016759.html\">Alphabet</a> (<a data-i13n=\"cpos:2;pos:1\" href=\"https://finance.yahoo.com/quote/GOOG\">GOOG</a>, <a data-i13n=\"cpos:3;pos:1\" href=\"https://finance.yahoo.com/quote/GOOGL\">GOOGL</a>), Meta Platforms (<a data-i13n=\"cpos:4;pos:1\" href=\"https://finance.yahoo.com/quote/META\">META</a>), Apple (<a data-i13n=\"cpos:5;pos:1\" href=\"https://finance.yahoo.com/quote/AAPL\">AAPL</a>), Amazon (<a data-i13n=\"cpos:6;pos:1\" href=\"https://finance.yahoo.com/quote/AMZN\">AMZN</a>), and Microsoft (<a data-i13n=\"cpos:7;pos:1\" href=\"https://finance.yahoo.com/quote/MSFT\">MSFT</a>) under President Donald Trump\\'s second term.</p>\\n<p>Yahoo Finance Senior Legal Reporter <a data-i13n=\"cpos:8;pos:1\" href=\"https://finance.yahoo.com/author/alexis-keenan/\">Alexis Keenan</a> joins Market Domination Overtime with <a data-i13n=\"cpos:9;pos:1\" href=\"https://finance.yahoo.com/author/julie-hyman/\">Julie Hyman</a> and <a data-i13n=\"cpos:10;pos:1\" href=\"https://finance.yahoo.com/author/myles-udland/\">Myles Udland</a> to break down the US government\\'s ongoing antitrust cases against Big Tech names.</p>\\n<p>To watch more expert insights and analysis on the latest market action, check out more Market Domination Overtime <a data-i13n=\"cpos:11;pos:1\" href=\"https://finance.yahoo.com/videos/series/market-domination-overtime/\">here</a>.</p>', 'summary': \"Antitrust regulators aren't backing down from cases against Big Tech names like Alphabet (GOOG, GOOGL), Meta Platforms (META), Apple (AAPL), Amazon (AMZN), and Microsoft (MSFT) under President Donald Trump's second term. Yahoo Finance Senior Legal Reporter Alexis Keenan joins Market Domination Overtime with Julie Hyman and Myles Udland to break down the US government's ongoing antitrust cases against Big Tech names. To watch more expert insights and analysis on the latest market action, check out more Market Domination Overtime here.\", 'pubDate': '2025-03-14T21:25:08Z', 'displayTime': '', 'isHosted': True, 'bypassModal': False, 'previewUrl': None, 'thumbnail': {'originalUrl': 'https://s.yimg.com/os/creatr-uploaded-images/2025-03/52430e80-0116-11f0-bde9-cb4ba7cb66c6', 'originalWidth': 2740, 'originalHeight': 1539, 'caption': '', 'resolutions': [{'url': 'https://s.yimg.com/uu/api/res/1.2/s072lisxZKQ1_L2eDL774w--~B/aD0xNTM5O3c9Mjc0MDthcHBpZD15dGFjaHlvbg--/https://s.yimg.com/os/creatr-uploaded-images/2025-03/52430e80-0116-11f0-bde9-cb4ba7cb66c6', 'width': 2740, 'height': 1539, 'tag': 'original'}, {'url': 'https://s.yimg.com/uu/api/res/1.2/yAbN1Qid3fkmCpuZ2zfQBQ--~B/Zmk9c3RyaW07aD0xMjg7dz0xNzA7YXBwaWQ9eXRhY2h5b24-/https://s.yimg.com/os/creatr-uploaded-images/2025-03/52430e80-0116-11f0-bde9-cb4ba7cb66c6', 'width': 170, 'height': 128, 'tag': '170x128'}]}, 'provider': {'displayName': 'Yahoo Finance Video', 'url': 'https://finance.yahoo.com/'}, 'canonicalUrl': {'url': 'https://finance.yahoo.com/video/antitrust-under-trump-regulators-lock-212508815.html', 'site': 'finance', 'region': 'US', 'lang': 'en-US'}, 'clickThroughUrl': {'url': 'https://finance.yahoo.com/video/antitrust-under-trump-regulators-lock-212508815.html', 'site': 'finance', 'region': 'US', 'lang': 'en-US'}, 'metadata': {'editorsPick': True}, 'finance': {'premiumFinance': {'isPremiumNews': False, 'isPremiumFreeNews': False}}, 'storyline': {'storylineItems': [{'content': {'id': 'aa382e73-42e4-3552-ab3e-b38e8088ad2b', 'contentType': 'STORY', 'isHosted': True, 'title': 'ChatGPT: Everything you need to know about the AI-powered chatbot', 'thumbnail': None, 'provider': {'displayName': 'TechCrunch', 'sourceId': 'techcrunch_for_finance_733'}, 'previewUrl': None, 'providerContentUrl': 'https://techcrunch.com/2025/03/14/chatgpt-everything-to-know-about-the-ai-chatbot/', 'canonicalUrl': {'url': 'https://techcrunch.com/2025/03/14/chatgpt-everything-to-know-about-the-ai-chatbot/'}, 'clickThroughUrl': {'url': 'https://finance.yahoo.com/news/chatgpt-everything-know-ai-powered-210339686.html'}}}, {'content': {'id': 'c2eb580d-2633-3b32-b983-d81b375bbc21', 'contentType': 'STORY', 'isHosted': True, 'title': 'No one knows what the hell an AI agent is', 'thumbnail': None, 'provider': {'displayName': 'TechCrunch', 'sourceId': 'techcrunch_for_finance_733'}, 'previewUrl': None, 'providerContentUrl': 'https://techcrunch.com/2025/03/14/no-one-knows-what-the-hell-an-ai-agent-is/', 'canonicalUrl': {'url': 'https://techcrunch.com/2025/03/14/no-one-knows-what-the-hell-an-ai-agent-is/'}, 'clickThroughUrl': {'url': 'https://finance.yahoo.com/news/no-one-knows-hell-ai-163000577.html'}}}]}}}\n"
     ]
    }
   ],
   "source": [
    "len(news)\n",
    "print(news[0])"
   ]
  },
  {
   "cell_type": "code",
   "execution_count": null,
   "metadata": {},
   "outputs": [
    {
     "name": "stdout",
     "output_type": "stream",
     "text": [
      "[{'id': '53b89b5d-de89-35e9-8b09-1d6f3a09d815', 'content': {'id': '53b89b5d-de89-35e9-8b09-1d6f3a09d815', 'contentType': 'VIDEO', 'title': 'Antitrust under Trump: Regulators lock in on Big Tech', 'description': '<p>Antitrust regulators aren\\'t backing down from cases against Big Tech names like <a data-i13n=\"cpos:1;pos:1\" href=\"https://finance.yahoo.com/news/trumps-doj-wants-a-google-breakup-but-is-willing-to-leave-ai-alone-080016759.html\">Alphabet</a> (<a data-i13n=\"cpos:2;pos:1\" href=\"https://finance.yahoo.com/quote/GOOG\">GOOG</a>, <a data-i13n=\"cpos:3;pos:1\" href=\"https://finance.yahoo.com/quote/GOOGL\">GOOGL</a>), Meta Platforms (<a data-i13n=\"cpos:4;pos:1\" href=\"https://finance.yahoo.com/quote/META\">META</a>), Apple (<a data-i13n=\"cpos:5;pos:1\" href=\"https://finance.yahoo.com/quote/AAPL\">AAPL</a>), Amazon (<a data-i13n=\"cpos:6;pos:1\" href=\"https://finance.yahoo.com/quote/AMZN\">AMZN</a>), and Microsoft (<a data-i13n=\"cpos:7;pos:1\" href=\"https://finance.yahoo.com/quote/MSFT\">MSFT</a>) under President Donald Trump\\'s second term.</p>\\n<p>Yahoo Finance Senior Legal Reporter <a data-i13n=\"cpos:8;pos:1\" href=\"https://finance.yahoo.com/author/alexis-keenan/\">Alexis Keenan</a> joins Market Domination Overtime with <a data-i13n=\"cpos:9;pos:1\" href=\"https://finance.yahoo.com/author/julie-hyman/\">Julie Hyman</a> and <a data-i13n=\"cpos:10;pos:1\" href=\"https://finance.yahoo.com/author/myles-udland/\">Myles Udland</a> to break down the US government\\'s ongoing antitrust cases against Big Tech names.</p>\\n<p>To watch more expert insights and analysis on the latest market action, check out more Market Domination Overtime <a data-i13n=\"cpos:11;pos:1\" href=\"https://finance.yahoo.com/videos/series/market-domination-overtime/\">here</a>.</p>', 'summary': \"Antitrust regulators aren't backing down from cases against Big Tech names like Alphabet (GOOG, GOOGL), Meta Platforms (META), Apple (AAPL), Amazon (AMZN), and Microsoft (MSFT) under President Donald Trump's second term. Yahoo Finance Senior Legal Reporter Alexis Keenan joins Market Domination Overtime with Julie Hyman and Myles Udland to break down the US government's ongoing antitrust cases against Big Tech names. To watch more expert insights and analysis on the latest market action, check out more Market Domination Overtime here.\", 'pubDate': '2025-03-14T21:25:08Z', 'displayTime': '', 'isHosted': True, 'bypassModal': False, 'previewUrl': None, 'thumbnail': {'originalUrl': 'https://s.yimg.com/os/creatr-uploaded-images/2025-03/52430e80-0116-11f0-bde9-cb4ba7cb66c6', 'originalWidth': 2740, 'originalHeight': 1539, 'caption': '', 'resolutions': [{'url': 'https://s.yimg.com/uu/api/res/1.2/s072lisxZKQ1_L2eDL774w--~B/aD0xNTM5O3c9Mjc0MDthcHBpZD15dGFjaHlvbg--/https://s.yimg.com/os/creatr-uploaded-images/2025-03/52430e80-0116-11f0-bde9-cb4ba7cb66c6', 'width': 2740, 'height': 1539, 'tag': 'original'}, {'url': 'https://s.yimg.com/uu/api/res/1.2/yAbN1Qid3fkmCpuZ2zfQBQ--~B/Zmk9c3RyaW07aD0xMjg7dz0xNzA7YXBwaWQ9eXRhY2h5b24-/https://s.yimg.com/os/creatr-uploaded-images/2025-03/52430e80-0116-11f0-bde9-cb4ba7cb66c6', 'width': 170, 'height': 128, 'tag': '170x128'}]}, 'provider': {'displayName': 'Yahoo Finance Video', 'url': 'https://finance.yahoo.com/'}, 'canonicalUrl': {'url': 'https://finance.yahoo.com/video/antitrust-under-trump-regulators-lock-212508815.html', 'site': 'finance', 'region': 'US', 'lang': 'en-US'}, 'clickThroughUrl': {'url': 'https://finance.yahoo.com/video/antitrust-under-trump-regulators-lock-212508815.html', 'site': 'finance', 'region': 'US', 'lang': 'en-US'}, 'metadata': {'editorsPick': True}, 'finance': {'premiumFinance': {'isPremiumNews': False, 'isPremiumFreeNews': False}}, 'storyline': {'storylineItems': [{'content': {'id': 'aa382e73-42e4-3552-ab3e-b38e8088ad2b', 'contentType': 'STORY', 'isHosted': True, 'title': 'ChatGPT: Everything you need to know about the AI-powered chatbot', 'thumbnail': None, 'provider': {'displayName': 'TechCrunch', 'sourceId': 'techcrunch_for_finance_733'}, 'previewUrl': None, 'providerContentUrl': 'https://techcrunch.com/2025/03/14/chatgpt-everything-to-know-about-the-ai-chatbot/', 'canonicalUrl': {'url': 'https://techcrunch.com/2025/03/14/chatgpt-everything-to-know-about-the-ai-chatbot/'}, 'clickThroughUrl': {'url': 'https://finance.yahoo.com/news/chatgpt-everything-know-ai-powered-210339686.html'}}}, {'content': {'id': 'c2eb580d-2633-3b32-b983-d81b375bbc21', 'contentType': 'STORY', 'isHosted': True, 'title': 'No one knows what the hell an AI agent is', 'thumbnail': None, 'provider': {'displayName': 'TechCrunch', 'sourceId': 'techcrunch_for_finance_733'}, 'previewUrl': None, 'providerContentUrl': 'https://techcrunch.com/2025/03/14/no-one-knows-what-the-hell-an-ai-agent-is/', 'canonicalUrl': {'url': 'https://techcrunch.com/2025/03/14/no-one-knows-what-the-hell-an-ai-agent-is/'}, 'clickThroughUrl': {'url': 'https://finance.yahoo.com/news/no-one-knows-hell-ai-163000577.html'}}}]}}}, {'id': 'f471b541-647a-3dd4-aaca-195c27555c02', 'content': {'id': 'f471b541-647a-3dd4-aaca-195c27555c02', 'contentType': 'STORY', 'title': 'UBS Reiterates ‘Buy’ on Microsoft Corporation (MSFT) Despite Azure Growth Concerns', 'description': '', 'summary': 'We recently compiled a list of the 10 High Flying AI Stocks This Week. In this article, we are going to take a look at where Microsoft Corporation (NASDAQ:MSFT) stands against the other AI stocks. Celestial AI™, creator of the Photonic Fabric™ optical interconnect technology platform, recently announced that it has raised an additional $250 million […]', 'pubDate': '2025-03-14T22:22:18Z', 'displayTime': '2025-03-14T22:22:18Z', 'isHosted': True, 'bypassModal': False, 'previewUrl': None, 'thumbnail': {'originalUrl': 'https://media.zenfs.com/en/insidermonkey.com/ae3cb2a93ad8e5ddf6f94148e71f74b9', 'originalWidth': 1456, 'originalHeight': 816, 'caption': 'Jim Cramer: \"Microsoft (MSFT) Missed Last Time - Can They Say Anything to Change That?\"', 'resolutions': [{'url': 'https://s.yimg.com/uu/api/res/1.2/FPV7LMJx9t7xViBmxMrZWw--~B/aD04MTY7dz0xNDU2O2FwcGlkPXl0YWNoeW9u/https://media.zenfs.com/en/insidermonkey.com/ae3cb2a93ad8e5ddf6f94148e71f74b9', 'width': 1456, 'height': 816, 'tag': 'original'}, {'url': 'https://s.yimg.com/uu/api/res/1.2/7FVXaC.qNKFr6Wz4v4sdRQ--~B/Zmk9c3RyaW07aD0xMjg7dz0xNzA7YXBwaWQ9eXRhY2h5b24-/https://media.zenfs.com/en/insidermonkey.com/ae3cb2a93ad8e5ddf6f94148e71f74b9', 'width': 170, 'height': 128, 'tag': '170x128'}]}, 'provider': {'displayName': 'Insider Monkey', 'url': 'http://www.insidermonkey.com'}, 'canonicalUrl': {'url': 'https://finance.yahoo.com/news/ubs-reiterates-buy-microsoft-corporation-222218371.html', 'site': 'finance', 'region': 'US', 'lang': 'en-US'}, 'clickThroughUrl': {'url': 'https://finance.yahoo.com/news/ubs-reiterates-buy-microsoft-corporation-222218371.html', 'site': 'finance', 'region': 'US', 'lang': 'en-US'}, 'metadata': {'editorsPick': False}, 'finance': {'premiumFinance': {'isPremiumNews': False, 'isPremiumFreeNews': False}}, 'storyline': None}}, {'id': '6dd03b4a-a379-3c96-8641-c87010a3a3a6', 'content': {'id': '6dd03b4a-a379-3c96-8641-c87010a3a3a6', 'contentType': 'STORY', 'title': 'Microsoft, Ferrari, and Other High Quality Stocks to Weather the Market Selloff', 'description': '', 'summary': 'As the outlook for stocks grows increasingly uncertain, investors should seek out companies with strong, stable profits and solid business franchises—the factor known as quality.  After an initial surge of optimism that President Donald Trump would enact growth-fueling tax cuts, fears over a tariff war with Mexico and China sent stocks tumbling.', 'pubDate': '2025-03-14T20:36:00Z', 'displayTime': '2025-03-14T20:36:00Z', 'isHosted': False, 'bypassModal': False, 'previewUrl': 'https://finance.yahoo.com/m/6dd03b4a-a379-3c96-8641-c87010a3a3a6/microsoft-ferrari-and-other.html', 'thumbnail': {'originalUrl': 'https://media.zenfs.com/en/Barrons.com/a19775ee423e7ab050ea975da55c5ede', 'originalWidth': 1280, 'originalHeight': 640, 'caption': '', 'resolutions': [{'url': 'https://s.yimg.com/uu/api/res/1.2/qaFmwJuPPEivFW6K0iBdXw--~B/aD02NDA7dz0xMjgwO2FwcGlkPXl0YWNoeW9u/https://media.zenfs.com/en/Barrons.com/a19775ee423e7ab050ea975da55c5ede', 'width': 1280, 'height': 640, 'tag': 'original'}, {'url': 'https://s.yimg.com/uu/api/res/1.2/ZHjhDKS8bk71uOp6uun3yA--~B/Zmk9c3RyaW07aD0xMjg7dz0xNzA7YXBwaWQ9eXRhY2h5b24-/https://media.zenfs.com/en/Barrons.com/a19775ee423e7ab050ea975da55c5ede', 'width': 170, 'height': 128, 'tag': '170x128'}]}, 'provider': {'displayName': 'Barrons.com', 'url': 'http://www.barrons.com/'}, 'canonicalUrl': {'url': 'https://www.barrons.com/articles/microsoft-ferrari-chipotle-walmart-quality-stocks-50086756?siteid=yhoof2&yptr=yahoo', 'site': 'finance', 'region': 'US', 'lang': 'en-US'}, 'clickThroughUrl': None, 'metadata': {'editorsPick': False}, 'finance': {'premiumFinance': {'isPremiumNews': False, 'isPremiumFreeNews': False}}, 'storyline': None}}, {'id': '36f713f1-e761-3bef-95b5-02f6aad67081', 'content': {'id': '36f713f1-e761-3bef-95b5-02f6aad67081', 'contentType': 'STORY', 'title': 'Microsoft Stock Marks 7th Straight Down Week, Plumbs New Low In 2025; Is MSFT A Buy In March, Or Is It A Sell?', 'description': '', 'summary': \"Is Microsoft a buy or perhaps even a sell in March?  This story on the legendary growth company examines key measures such as profits and sales, relative strength in the market, and the quantity and quality of fund ownership in Microsoft stock.  During Monday's bearish trading session, Microsoft stock slid 3.3% in significantly above-average volume and made a year-to-date low of 377.22.\", 'pubDate': '2025-03-14T20:30:19Z', 'displayTime': '2025-03-14T20:30:19Z', 'isHosted': False, 'bypassModal': False, 'previewUrl': 'https://finance.yahoo.com/m/36f713f1-e761-3bef-95b5-02f6aad67081/microsoft-stock-marks-7th.html', 'thumbnail': {'originalUrl': 'https://media.zenfs.com/en/ibd.com/b9f70b1bcd23bee9f2f3639b70b765a8', 'originalWidth': 1000, 'originalHeight': 563, 'caption': '', 'resolutions': [{'url': 'https://s.yimg.com/uu/api/res/1.2/ibewfdyAwUSGE8M4zQsC0Q--~B/aD01NjM7dz0xMDAwO2FwcGlkPXl0YWNoeW9u/https://media.zenfs.com/en/ibd.com/b9f70b1bcd23bee9f2f3639b70b765a8', 'width': 1000, 'height': 563, 'tag': 'original'}, {'url': 'https://s.yimg.com/uu/api/res/1.2/0GripddyyTELvs9xRYJJeA--~B/Zmk9c3RyaW07aD0xMjg7dz0xNzA7YXBwaWQ9eXRhY2h5b24-/https://media.zenfs.com/en/ibd.com/b9f70b1bcd23bee9f2f3639b70b765a8', 'width': 170, 'height': 128, 'tag': '170x128'}]}, 'provider': {'displayName': \"Investor's Business Daily\", 'url': 'http://www.investors.com/'}, 'canonicalUrl': {'url': 'https://www.investors.com/research/microsoft-msft-stock-buy-sell-in-march/?src=A00220&yptr=yahoo', 'site': 'finance', 'region': 'US', 'lang': 'en-US'}, 'clickThroughUrl': None, 'metadata': {'editorsPick': False}, 'finance': {'premiumFinance': {'isPremiumNews': False, 'isPremiumFreeNews': False}}, 'storyline': None}}, {'id': '666371a0-4505-3d25-96f2-8ea8e0a130ec', 'content': {'id': '666371a0-4505-3d25-96f2-8ea8e0a130ec', 'contentType': 'STORY', 'title': 'Energy Execs Warn Electricians Are Hard to Find. It Could Slow the AI Data Center Boom.', 'description': '', 'summary': 'Data centers have sophisticated electrical connections and cooling systems. Companies need electricians to manage all of it, but they’re in short supply.', 'pubDate': '2025-03-14T20:26:00Z', 'displayTime': '2025-03-14T20:26:00Z', 'isHosted': False, 'bypassModal': False, 'previewUrl': 'https://finance.yahoo.com/m/666371a0-4505-3d25-96f2-8ea8e0a130ec/energy-execs-warn.html', 'thumbnail': {'originalUrl': 'https://media.zenfs.com/en/Barrons.com/ff2da3675570822de8bbdcf226e0fd7c', 'originalWidth': 1280, 'originalHeight': 640, 'caption': '', 'resolutions': [{'url': 'https://s.yimg.com/uu/api/res/1.2/TvtPi57Bid3D1bez0TdEmw--~B/aD02NDA7dz0xMjgwO2FwcGlkPXl0YWNoeW9u/https://media.zenfs.com/en/Barrons.com/ff2da3675570822de8bbdcf226e0fd7c', 'width': 1280, 'height': 640, 'tag': 'original'}, {'url': 'https://s.yimg.com/uu/api/res/1.2/PmR81OM2ZudtBEIZQTmxng--~B/Zmk9c3RyaW07aD0xMjg7dz0xNzA7YXBwaWQ9eXRhY2h5b24-/https://media.zenfs.com/en/Barrons.com/ff2da3675570822de8bbdcf226e0fd7c', 'width': 170, 'height': 128, 'tag': '170x128'}]}, 'provider': {'displayName': 'Barrons.com', 'url': 'http://www.barrons.com/'}, 'canonicalUrl': {'url': 'https://www.barrons.com/articles/electricians-ai-shortage-blackrock-microsoft-db2fe5bc?siteid=yhoof2&yptr=yahoo', 'site': 'finance', 'region': 'US', 'lang': 'en-US'}, 'clickThroughUrl': None, 'metadata': {'editorsPick': False}, 'finance': {'premiumFinance': {'isPremiumNews': False, 'isPremiumFreeNews': False}}, 'storyline': None}}, {'id': '0fbacb6a-4fb9-3127-854c-26affa64f1fa', 'content': {'id': '0fbacb6a-4fb9-3127-854c-26affa64f1fa', 'contentType': 'STORY', 'title': 'Microsoft Corporation (NASDAQ:MSFT) Upgraded to ‘Buy’ as AI Investment Strategy Gains Traction', 'description': '', 'summary': 'We recently published a list of 10 AI Stocks On Wall Street’s Radar. In this article, we are going to take a look at where Microsoft Corporation (NASDAQ:MSFT) stands against other AI stocks that are on Wall Street’s radar today. Unlike other companies, OpenAI does not struggle with market demand; noted Oliver Jay, managing director […]', 'pubDate': '2025-03-14T20:14:45Z', 'displayTime': '2025-03-14T20:14:45Z', 'isHosted': True, 'bypassModal': False, 'previewUrl': None, 'thumbnail': {'originalUrl': 'https://media.zenfs.com/en/insidermonkey.com/8357d4801c2f5a834455cbcc99383b11', 'originalWidth': 4288, 'originalHeight': 2848, 'caption': \"Microsoft Corporation (NASDAQ:MSFT) Upgraded to 'Buy' as AI Investment Strategy Gains Traction\", 'resolutions': [{'url': 'https://s.yimg.com/uu/api/res/1.2/EheKJXdeS8GFjKsYs8U2pg--~B/aD0yODQ4O3c9NDI4ODthcHBpZD15dGFjaHlvbg--/https://media.zenfs.com/en/insidermonkey.com/8357d4801c2f5a834455cbcc99383b11', 'width': 4288, 'height': 2848, 'tag': 'original'}, {'url': 'https://s.yimg.com/uu/api/res/1.2/KNpw.xxXpLvppi15Ai7h.w--~B/Zmk9c3RyaW07aD0xMjg7dz0xNzA7YXBwaWQ9eXRhY2h5b24-/https://media.zenfs.com/en/insidermonkey.com/8357d4801c2f5a834455cbcc99383b11', 'width': 170, 'height': 128, 'tag': '170x128'}]}, 'provider': {'displayName': 'Insider Monkey', 'url': 'http://www.insidermonkey.com'}, 'canonicalUrl': {'url': 'https://finance.yahoo.com/news/microsoft-corporation-nasdaq-msft-upgraded-201445899.html', 'site': 'finance', 'region': 'US', 'lang': 'en-US'}, 'clickThroughUrl': {'url': 'https://finance.yahoo.com/news/microsoft-corporation-nasdaq-msft-upgraded-201445899.html', 'site': 'finance', 'region': 'US', 'lang': 'en-US'}, 'metadata': {'editorsPick': False}, 'finance': {'premiumFinance': {'isPremiumNews': False, 'isPremiumFreeNews': False}}, 'storyline': None}}, {'id': 'ece0b6f3-6ab7-3271-83b6-39e0307e982f', 'content': {'id': 'ece0b6f3-6ab7-3271-83b6-39e0307e982f', 'contentType': 'STORY', 'title': 'The Nasdaq Just Hit Correction Territory: Buy This Unstoppable Stock at a Discount', 'description': '', 'summary': 'Down over 13% from its all-time high (achieved in December), the Nasdaq Composite\\xa0is officially in a correction, which is defined as a drawdown of at least 10%.  After falling by 4% on Monday, the Nasdaq Composite ticked down again on Tuesday as the broader market sell-off intensified across the major indexes.  Major tech stocks like Microsoft (NASDAQ: MSFT) and Apple are down 10% and 12%, respectively.', 'pubDate': '2025-03-14T19:30:00Z', 'displayTime': '2025-03-14T19:30:00Z', 'isHosted': True, 'bypassModal': False, 'previewUrl': None, 'thumbnail': {'originalUrl': 'https://media.zenfs.com/en/motleyfool.com/8bd1977dae01edc0ea578724ba6283d3', 'originalWidth': 1201, 'originalHeight': 804, 'caption': 'A person working on a laptop computer while sitting at a desk by a window. ', 'resolutions': [{'url': 'https://s.yimg.com/uu/api/res/1.2/2OspDIkIAGni.iEB7D1t9Q--~B/aD04MDQ7dz0xMjAxO2FwcGlkPXl0YWNoeW9u/https://media.zenfs.com/en/motleyfool.com/8bd1977dae01edc0ea578724ba6283d3', 'width': 1201, 'height': 804, 'tag': 'original'}, {'url': 'https://s.yimg.com/uu/api/res/1.2/Mo5dcpJToLA2fl.JVEX4dg--~B/Zmk9c3RyaW07aD0xMjg7dz0xNzA7YXBwaWQ9eXRhY2h5b24-/https://media.zenfs.com/en/motleyfool.com/8bd1977dae01edc0ea578724ba6283d3', 'width': 170, 'height': 128, 'tag': '170x128'}]}, 'provider': {'displayName': 'Motley Fool', 'url': 'http://www.fool.com/'}, 'canonicalUrl': {'url': 'https://www.fool.com/investing/2025/03/14/nasdaq-correction-buy-growth-stock-microsoft/?source=eptyholnk0000202&utm_source=yahoo-host-full&utm_medium=feed&utm_campaign=article&referring_guid=39e707e1-b1a6-4c7e-b46e-943d9736f04b', 'site': 'finance', 'region': 'US', 'lang': 'en-US'}, 'clickThroughUrl': {'url': 'https://finance.yahoo.com/news/nasdaq-just-hit-correction-territory-193000756.html', 'site': 'finance', 'region': 'US', 'lang': 'en-US'}, 'metadata': {'editorsPick': False}, 'finance': {'premiumFinance': {'isPremiumNews': False, 'isPremiumFreeNews': False}}, 'storyline': None}}, {'id': 'e15e623f-00d4-3e3f-9ba8-38e3e6697ce0', 'content': {'id': 'e15e623f-00d4-3e3f-9ba8-38e3e6697ce0', 'contentType': 'STORY', 'title': 'The Mag 7 Stocks Have Gotten Crushed. Buy These 4 Now.', 'description': '', 'summary': 'Amazon.com may be the best bet among the Magnificent Seven. These other three stocks look attractive, too.', 'pubDate': '2025-03-14T19:28:00Z', 'displayTime': '2025-03-14T19:28:00Z', 'isHosted': False, 'bypassModal': False, 'previewUrl': 'https://finance.yahoo.com/m/e15e623f-00d4-3e3f-9ba8-38e3e6697ce0/the-mag-7-stocks-have-gotten.html', 'thumbnail': {'originalUrl': 'https://media.zenfs.com/en/Barrons.com/cd77a65fe8f9ed28af947363e2eebe80', 'originalWidth': 1280, 'originalHeight': 640, 'caption': '', 'resolutions': [{'url': 'https://s.yimg.com/uu/api/res/1.2/LOvzOAlbE3IK.m7PRWVB0Q--~B/aD02NDA7dz0xMjgwO2FwcGlkPXl0YWNoeW9u/https://media.zenfs.com/en/Barrons.com/cd77a65fe8f9ed28af947363e2eebe80', 'width': 1280, 'height': 640, 'tag': 'original'}, {'url': 'https://s.yimg.com/uu/api/res/1.2/_7Y2WMpX6oWrUWSyk5I75A--~B/Zmk9c3RyaW07aD0xMjg7dz0xNzA7YXBwaWQ9eXRhY2h5b24-/https://media.zenfs.com/en/Barrons.com/cd77a65fe8f9ed28af947363e2eebe80', 'width': 170, 'height': 128, 'tag': '170x128'}]}, 'provider': {'displayName': 'Barrons.com', 'url': 'http://www.barrons.com/'}, 'canonicalUrl': {'url': 'https://www.barrons.com/articles/buy-amazon-nvidia-meta-alphabet-mag-7-stocks-c2542025?siteid=yhoof2&yptr=yahoo', 'site': 'finance', 'region': 'US', 'lang': 'en-US'}, 'clickThroughUrl': None, 'metadata': {'editorsPick': False}, 'finance': {'premiumFinance': {'isPremiumNews': False, 'isPremiumFreeNews': False}}, 'storyline': None}}, {'id': '4205eaa9-f620-3a0b-a81a-0e82c7c9fd0b', 'content': {'id': '4205eaa9-f620-3a0b-a81a-0e82c7c9fd0b', 'contentType': 'STORY', 'title': 'Magnificent Seven Stocks: Nvidia, Meta, Tesla Rally', 'description': '', 'summary': 'Dubbed the Magnificent Seven stocks, Apple, Microsoft, Google parent Alphabet, Amazon.com, Nvidia, Meta Platforms and Tesla lived up to their name in 2024 with solid gains. Through the first two months of 2025, however, performance for these mega-cap stocks has been mostly negative thus far.', 'pubDate': '2025-03-14T18:27:42Z', 'displayTime': '2025-03-14T18:27:42Z', 'isHosted': False, 'bypassModal': False, 'previewUrl': 'https://finance.yahoo.com/m/4205eaa9-f620-3a0b-a81a-0e82c7c9fd0b/magnificent-seven-stocks-.html', 'thumbnail': {'originalUrl': 'https://media.zenfs.com/en/ibd.com/0682fdd5dad13df00d702863d79378a1', 'originalWidth': 1000, 'originalHeight': 563, 'caption': '', 'resolutions': [{'url': 'https://s.yimg.com/uu/api/res/1.2/dH2T4UlHg7A40njz2aVZLw--~B/aD01NjM7dz0xMDAwO2FwcGlkPXl0YWNoeW9u/https://media.zenfs.com/en/ibd.com/0682fdd5dad13df00d702863d79378a1', 'width': 1000, 'height': 563, 'tag': 'original'}, {'url': 'https://s.yimg.com/uu/api/res/1.2/uNyO8ptuWsHDEOneeaLn9A--~B/Zmk9c3RyaW07aD0xMjg7dz0xNzA7YXBwaWQ9eXRhY2h5b24-/https://media.zenfs.com/en/ibd.com/0682fdd5dad13df00d702863d79378a1', 'width': 170, 'height': 128, 'tag': '170x128'}]}, 'provider': {'displayName': \"Investor's Business Daily\", 'url': 'http://www.investors.com/'}, 'canonicalUrl': {'url': 'https://www.investors.com/research/magnificent-seven-stocks-march-2025/?src=A00220&yptr=yahoo', 'site': 'finance', 'region': 'US', 'lang': 'en-US'}, 'clickThroughUrl': None, 'metadata': {'editorsPick': False}, 'finance': {'premiumFinance': {'isPremiumNews': False, 'isPremiumFreeNews': False}}, 'storyline': None}}, {'id': '662fcf06-54aa-30f5-a4fb-84582bf71ba4', 'content': {'id': '662fcf06-54aa-30f5-a4fb-84582bf71ba4', 'contentType': 'STORY', 'title': 'Billions In AI Capex May Already Be Paying Off. How We Know.', 'description': '', 'summary': 'A new IPO filing from start-up CoreWeave suggests that every dollar put into the AI cloud is quickly paying off thanks to rapid growth rates in the business.', 'pubDate': '2025-03-14T17:50:00Z', 'displayTime': '2025-03-14T17:50:00Z', 'isHosted': False, 'bypassModal': False, 'previewUrl': 'https://finance.yahoo.com/m/662fcf06-54aa-30f5-a4fb-84582bf71ba4/billions-in-ai-capex-may.html', 'thumbnail': {'originalUrl': 'https://media.zenfs.com/en/Barrons.com/b33bda8ea08a63642347714972fda1f9', 'originalWidth': 1280, 'originalHeight': 640, 'caption': '', 'resolutions': [{'url': 'https://s.yimg.com/uu/api/res/1.2/QyCfIWH7gJaxnyXJQiEEuQ--~B/aD02NDA7dz0xMjgwO2FwcGlkPXl0YWNoeW9u/https://media.zenfs.com/en/Barrons.com/b33bda8ea08a63642347714972fda1f9', 'width': 1280, 'height': 640, 'tag': 'original'}, {'url': 'https://s.yimg.com/uu/api/res/1.2/eBIk8.7zHBlKww0G4CixkA--~B/Zmk9c3RyaW07aD0xMjg7dz0xNzA7YXBwaWQ9eXRhY2h5b24-/https://media.zenfs.com/en/Barrons.com/b33bda8ea08a63642347714972fda1f9', 'width': 170, 'height': 128, 'tag': '170x128'}]}, 'provider': {'displayName': 'Barrons.com', 'url': 'http://www.barrons.com/'}, 'canonicalUrl': {'url': 'https://www.barrons.com/articles/ai-stocks-nvidia-amazon-microsoft-coreweave-ipo-ddee09ff?siteid=yhoof2&yptr=yahoo', 'site': 'finance', 'region': 'US', 'lang': 'en-US'}, 'clickThroughUrl': None, 'metadata': {'editorsPick': False}, 'finance': {'premiumFinance': {'isPremiumNews': False, 'isPremiumFreeNews': False}}, 'storyline': None}}]\n"
     ]
    }
   ],
   "source": [
    "all_news = []\n",
    "\n",
    "for i in news:\n",
    "    all_news.append(i)\n",
    "\n",
    "print(all_news)\n",
    "\n",
    "\n",
    "# all_records = pd.DataFrame.from_records(all_news)\n"
   ]
  },
  {
   "cell_type": "code",
   "execution_count": 81,
   "metadata": {},
   "outputs": [
    {
     "name": "stdout",
     "output_type": "stream",
     "text": [
      "Hello\n",
      "{'id': '53b89b5d-de89-35e9-8b09-1d6f3a09d815', 'content': {'id': '53b89b5d-de89-35e9-8b09-1d6f3a09d815', 'contentType': 'VIDEO', 'title': 'Antitrust under Trump: Regulators lock in on Big Tech', 'description': '<p>Antitrust regulators aren\\'t backing down from cases against Big Tech names like <a data-i13n=\"cpos:1;pos:1\" href=\"https://finance.yahoo.com/news/trumps-doj-wants-a-google-breakup-but-is-willing-to-leave-ai-alone-080016759.html\">Alphabet</a> (<a data-i13n=\"cpos:2;pos:1\" href=\"https://finance.yahoo.com/quote/GOOG\">GOOG</a>, <a data-i13n=\"cpos:3;pos:1\" href=\"https://finance.yahoo.com/quote/GOOGL\">GOOGL</a>), Meta Platforms (<a data-i13n=\"cpos:4;pos:1\" href=\"https://finance.yahoo.com/quote/META\">META</a>), Apple (<a data-i13n=\"cpos:5;pos:1\" href=\"https://finance.yahoo.com/quote/AAPL\">AAPL</a>), Amazon (<a data-i13n=\"cpos:6;pos:1\" href=\"https://finance.yahoo.com/quote/AMZN\">AMZN</a>), and Microsoft (<a data-i13n=\"cpos:7;pos:1\" href=\"https://finance.yahoo.com/quote/MSFT\">MSFT</a>) under President Donald Trump\\'s second term.</p>\\n<p>Yahoo Finance Senior Legal Reporter <a data-i13n=\"cpos:8;pos:1\" href=\"https://finance.yahoo.com/author/alexis-keenan/\">Alexis Keenan</a> joins Market Domination Overtime with <a data-i13n=\"cpos:9;pos:1\" href=\"https://finance.yahoo.com/author/julie-hyman/\">Julie Hyman</a> and <a data-i13n=\"cpos:10;pos:1\" href=\"https://finance.yahoo.com/author/myles-udland/\">Myles Udland</a> to break down the US government\\'s ongoing antitrust cases against Big Tech names.</p>\\n<p>To watch more expert insights and analysis on the latest market action, check out more Market Domination Overtime <a data-i13n=\"cpos:11;pos:1\" href=\"https://finance.yahoo.com/videos/series/market-domination-overtime/\">here</a>.</p>', 'summary': \"Antitrust regulators aren't backing down from cases against Big Tech names like Alphabet (GOOG, GOOGL), Meta Platforms (META), Apple (AAPL), Amazon (AMZN), and Microsoft (MSFT) under President Donald Trump's second term. Yahoo Finance Senior Legal Reporter Alexis Keenan joins Market Domination Overtime with Julie Hyman and Myles Udland to break down the US government's ongoing antitrust cases against Big Tech names. To watch more expert insights and analysis on the latest market action, check out more Market Domination Overtime here.\", 'pubDate': '2025-03-14T21:25:08Z', 'displayTime': '', 'isHosted': True, 'bypassModal': False, 'previewUrl': None, 'thumbnail': {'originalUrl': 'https://s.yimg.com/os/creatr-uploaded-images/2025-03/52430e80-0116-11f0-bde9-cb4ba7cb66c6', 'originalWidth': 2740, 'originalHeight': 1539, 'caption': '', 'resolutions': [{'url': 'https://s.yimg.com/uu/api/res/1.2/s072lisxZKQ1_L2eDL774w--~B/aD0xNTM5O3c9Mjc0MDthcHBpZD15dGFjaHlvbg--/https://s.yimg.com/os/creatr-uploaded-images/2025-03/52430e80-0116-11f0-bde9-cb4ba7cb66c6', 'width': 2740, 'height': 1539, 'tag': 'original'}, {'url': 'https://s.yimg.com/uu/api/res/1.2/yAbN1Qid3fkmCpuZ2zfQBQ--~B/Zmk9c3RyaW07aD0xMjg7dz0xNzA7YXBwaWQ9eXRhY2h5b24-/https://s.yimg.com/os/creatr-uploaded-images/2025-03/52430e80-0116-11f0-bde9-cb4ba7cb66c6', 'width': 170, 'height': 128, 'tag': '170x128'}]}, 'provider': {'displayName': 'Yahoo Finance Video', 'url': 'https://finance.yahoo.com/'}, 'canonicalUrl': {'url': 'https://finance.yahoo.com/video/antitrust-under-trump-regulators-lock-212508815.html', 'site': 'finance', 'region': 'US', 'lang': 'en-US'}, 'clickThroughUrl': {'url': 'https://finance.yahoo.com/video/antitrust-under-trump-regulators-lock-212508815.html', 'site': 'finance', 'region': 'US', 'lang': 'en-US'}, 'metadata': {'editorsPick': True}, 'finance': {'premiumFinance': {'isPremiumNews': False, 'isPremiumFreeNews': False}}, 'storyline': {'storylineItems': [{'content': {'id': 'aa382e73-42e4-3552-ab3e-b38e8088ad2b', 'contentType': 'STORY', 'isHosted': True, 'title': 'ChatGPT: Everything you need to know about the AI-powered chatbot', 'thumbnail': None, 'provider': {'displayName': 'TechCrunch', 'sourceId': 'techcrunch_for_finance_733'}, 'previewUrl': None, 'providerContentUrl': 'https://techcrunch.com/2025/03/14/chatgpt-everything-to-know-about-the-ai-chatbot/', 'canonicalUrl': {'url': 'https://techcrunch.com/2025/03/14/chatgpt-everything-to-know-about-the-ai-chatbot/'}, 'clickThroughUrl': {'url': 'https://finance.yahoo.com/news/chatgpt-everything-know-ai-powered-210339686.html'}}}, {'content': {'id': 'c2eb580d-2633-3b32-b983-d81b375bbc21', 'contentType': 'STORY', 'isHosted': True, 'title': 'No one knows what the hell an AI agent is', 'thumbnail': None, 'provider': {'displayName': 'TechCrunch', 'sourceId': 'techcrunch_for_finance_733'}, 'previewUrl': None, 'providerContentUrl': 'https://techcrunch.com/2025/03/14/no-one-knows-what-the-hell-an-ai-agent-is/', 'canonicalUrl': {'url': 'https://techcrunch.com/2025/03/14/no-one-knows-what-the-hell-an-ai-agent-is/'}, 'clickThroughUrl': {'url': 'https://finance.yahoo.com/news/no-one-knows-hell-ai-163000577.html'}}}]}}}\n",
      "10\n"
     ]
    }
   ],
   "source": [
    "\n",
    "print(\"Hello\")\n",
    "print(all_news[0])\n",
    "print(len(all_news))"
   ]
  },
  {
   "cell_type": "code",
   "execution_count": null,
   "metadata": {},
   "outputs": [
    {
     "name": "stdout",
     "output_type": "stream",
     "text": [
      "[{'id': '53b89b5d-de89-35e9-8b09-1d6f3a09d815', 'contentType': 'VIDEO', 'title': 'Antitrust under Trump: Regulators lock in on Big Tech', 'description': '<p>Antitrust regulators aren\\'t backing down from cases against Big Tech names like <a data-i13n=\"cpos:1;pos:1\" href=\"https://finance.yahoo.com/news/trumps-doj-wants-a-google-breakup-but-is-willing-to-leave-ai-alone-080016759.html\">Alphabet</a> (<a data-i13n=\"cpos:2;pos:1\" href=\"https://finance.yahoo.com/quote/GOOG\">GOOG</a>, <a data-i13n=\"cpos:3;pos:1\" href=\"https://finance.yahoo.com/quote/GOOGL\">GOOGL</a>), Meta Platforms (<a data-i13n=\"cpos:4;pos:1\" href=\"https://finance.yahoo.com/quote/META\">META</a>), Apple (<a data-i13n=\"cpos:5;pos:1\" href=\"https://finance.yahoo.com/quote/AAPL\">AAPL</a>), Amazon (<a data-i13n=\"cpos:6;pos:1\" href=\"https://finance.yahoo.com/quote/AMZN\">AMZN</a>), and Microsoft (<a data-i13n=\"cpos:7;pos:1\" href=\"https://finance.yahoo.com/quote/MSFT\">MSFT</a>) under President Donald Trump\\'s second term.</p>\\n<p>Yahoo Finance Senior Legal Reporter <a data-i13n=\"cpos:8;pos:1\" href=\"https://finance.yahoo.com/author/alexis-keenan/\">Alexis Keenan</a> joins Market Domination Overtime with <a data-i13n=\"cpos:9;pos:1\" href=\"https://finance.yahoo.com/author/julie-hyman/\">Julie Hyman</a> and <a data-i13n=\"cpos:10;pos:1\" href=\"https://finance.yahoo.com/author/myles-udland/\">Myles Udland</a> to break down the US government\\'s ongoing antitrust cases against Big Tech names.</p>\\n<p>To watch more expert insights and analysis on the latest market action, check out more Market Domination Overtime <a data-i13n=\"cpos:11;pos:1\" href=\"https://finance.yahoo.com/videos/series/market-domination-overtime/\">here</a>.</p>', 'summary': \"Antitrust regulators aren't backing down from cases against Big Tech names like Alphabet (GOOG, GOOGL), Meta Platforms (META), Apple (AAPL), Amazon (AMZN), and Microsoft (MSFT) under President Donald Trump's second term. Yahoo Finance Senior Legal Reporter Alexis Keenan joins Market Domination Overtime with Julie Hyman and Myles Udland to break down the US government's ongoing antitrust cases against Big Tech names. To watch more expert insights and analysis on the latest market action, check out more Market Domination Overtime here.\", 'pubDate': '2025-03-14T21:25:08Z', 'displayTime': '', 'isHosted': True, 'bypassModal': False, 'previewUrl': None, 'thumbnail': {'originalUrl': 'https://s.yimg.com/os/creatr-uploaded-images/2025-03/52430e80-0116-11f0-bde9-cb4ba7cb66c6', 'originalWidth': 2740, 'originalHeight': 1539, 'caption': '', 'resolutions': [{'url': 'https://s.yimg.com/uu/api/res/1.2/s072lisxZKQ1_L2eDL774w--~B/aD0xNTM5O3c9Mjc0MDthcHBpZD15dGFjaHlvbg--/https://s.yimg.com/os/creatr-uploaded-images/2025-03/52430e80-0116-11f0-bde9-cb4ba7cb66c6', 'width': 2740, 'height': 1539, 'tag': 'original'}, {'url': 'https://s.yimg.com/uu/api/res/1.2/yAbN1Qid3fkmCpuZ2zfQBQ--~B/Zmk9c3RyaW07aD0xMjg7dz0xNzA7YXBwaWQ9eXRhY2h5b24-/https://s.yimg.com/os/creatr-uploaded-images/2025-03/52430e80-0116-11f0-bde9-cb4ba7cb66c6', 'width': 170, 'height': 128, 'tag': '170x128'}]}, 'provider': {'displayName': 'Yahoo Finance Video', 'url': 'https://finance.yahoo.com/'}, 'canonicalUrl': {'url': 'https://finance.yahoo.com/video/antitrust-under-trump-regulators-lock-212508815.html', 'site': 'finance', 'region': 'US', 'lang': 'en-US'}, 'clickThroughUrl': {'url': 'https://finance.yahoo.com/video/antitrust-under-trump-regulators-lock-212508815.html', 'site': 'finance', 'region': 'US', 'lang': 'en-US'}, 'metadata': {'editorsPick': True}, 'finance': {'premiumFinance': {'isPremiumNews': False, 'isPremiumFreeNews': False}}, 'storyline': {'storylineItems': [{'content': {'id': 'aa382e73-42e4-3552-ab3e-b38e8088ad2b', 'contentType': 'STORY', 'isHosted': True, 'title': 'ChatGPT: Everything you need to know about the AI-powered chatbot', 'thumbnail': None, 'provider': {'displayName': 'TechCrunch', 'sourceId': 'techcrunch_for_finance_733'}, 'previewUrl': None, 'providerContentUrl': 'https://techcrunch.com/2025/03/14/chatgpt-everything-to-know-about-the-ai-chatbot/', 'canonicalUrl': {'url': 'https://techcrunch.com/2025/03/14/chatgpt-everything-to-know-about-the-ai-chatbot/'}, 'clickThroughUrl': {'url': 'https://finance.yahoo.com/news/chatgpt-everything-know-ai-powered-210339686.html'}}}, {'content': {'id': 'c2eb580d-2633-3b32-b983-d81b375bbc21', 'contentType': 'STORY', 'isHosted': True, 'title': 'No one knows what the hell an AI agent is', 'thumbnail': None, 'provider': {'displayName': 'TechCrunch', 'sourceId': 'techcrunch_for_finance_733'}, 'previewUrl': None, 'providerContentUrl': 'https://techcrunch.com/2025/03/14/no-one-knows-what-the-hell-an-ai-agent-is/', 'canonicalUrl': {'url': 'https://techcrunch.com/2025/03/14/no-one-knows-what-the-hell-an-ai-agent-is/'}, 'clickThroughUrl': {'url': 'https://finance.yahoo.com/news/no-one-knows-hell-ai-163000577.html'}}}]}}, {'id': 'f471b541-647a-3dd4-aaca-195c27555c02', 'contentType': 'STORY', 'title': 'UBS Reiterates ‘Buy’ on Microsoft Corporation (MSFT) Despite Azure Growth Concerns', 'description': '', 'summary': 'We recently compiled a list of the 10 High Flying AI Stocks This Week. In this article, we are going to take a look at where Microsoft Corporation (NASDAQ:MSFT) stands against the other AI stocks. Celestial AI™, creator of the Photonic Fabric™ optical interconnect technology platform, recently announced that it has raised an additional $250 million […]', 'pubDate': '2025-03-14T22:22:18Z', 'displayTime': '2025-03-14T22:22:18Z', 'isHosted': True, 'bypassModal': False, 'previewUrl': None, 'thumbnail': {'originalUrl': 'https://media.zenfs.com/en/insidermonkey.com/ae3cb2a93ad8e5ddf6f94148e71f74b9', 'originalWidth': 1456, 'originalHeight': 816, 'caption': 'Jim Cramer: \"Microsoft (MSFT) Missed Last Time - Can They Say Anything to Change That?\"', 'resolutions': [{'url': 'https://s.yimg.com/uu/api/res/1.2/FPV7LMJx9t7xViBmxMrZWw--~B/aD04MTY7dz0xNDU2O2FwcGlkPXl0YWNoeW9u/https://media.zenfs.com/en/insidermonkey.com/ae3cb2a93ad8e5ddf6f94148e71f74b9', 'width': 1456, 'height': 816, 'tag': 'original'}, {'url': 'https://s.yimg.com/uu/api/res/1.2/7FVXaC.qNKFr6Wz4v4sdRQ--~B/Zmk9c3RyaW07aD0xMjg7dz0xNzA7YXBwaWQ9eXRhY2h5b24-/https://media.zenfs.com/en/insidermonkey.com/ae3cb2a93ad8e5ddf6f94148e71f74b9', 'width': 170, 'height': 128, 'tag': '170x128'}]}, 'provider': {'displayName': 'Insider Monkey', 'url': 'http://www.insidermonkey.com'}, 'canonicalUrl': {'url': 'https://finance.yahoo.com/news/ubs-reiterates-buy-microsoft-corporation-222218371.html', 'site': 'finance', 'region': 'US', 'lang': 'en-US'}, 'clickThroughUrl': {'url': 'https://finance.yahoo.com/news/ubs-reiterates-buy-microsoft-corporation-222218371.html', 'site': 'finance', 'region': 'US', 'lang': 'en-US'}, 'metadata': {'editorsPick': False}, 'finance': {'premiumFinance': {'isPremiumNews': False, 'isPremiumFreeNews': False}}, 'storyline': None}, {'id': '6dd03b4a-a379-3c96-8641-c87010a3a3a6', 'contentType': 'STORY', 'title': 'Microsoft, Ferrari, and Other High Quality Stocks to Weather the Market Selloff', 'description': '', 'summary': 'As the outlook for stocks grows increasingly uncertain, investors should seek out companies with strong, stable profits and solid business franchises—the factor known as quality.  After an initial surge of optimism that President Donald Trump would enact growth-fueling tax cuts, fears over a tariff war with Mexico and China sent stocks tumbling.', 'pubDate': '2025-03-14T20:36:00Z', 'displayTime': '2025-03-14T20:36:00Z', 'isHosted': False, 'bypassModal': False, 'previewUrl': 'https://finance.yahoo.com/m/6dd03b4a-a379-3c96-8641-c87010a3a3a6/microsoft-ferrari-and-other.html', 'thumbnail': {'originalUrl': 'https://media.zenfs.com/en/Barrons.com/a19775ee423e7ab050ea975da55c5ede', 'originalWidth': 1280, 'originalHeight': 640, 'caption': '', 'resolutions': [{'url': 'https://s.yimg.com/uu/api/res/1.2/qaFmwJuPPEivFW6K0iBdXw--~B/aD02NDA7dz0xMjgwO2FwcGlkPXl0YWNoeW9u/https://media.zenfs.com/en/Barrons.com/a19775ee423e7ab050ea975da55c5ede', 'width': 1280, 'height': 640, 'tag': 'original'}, {'url': 'https://s.yimg.com/uu/api/res/1.2/ZHjhDKS8bk71uOp6uun3yA--~B/Zmk9c3RyaW07aD0xMjg7dz0xNzA7YXBwaWQ9eXRhY2h5b24-/https://media.zenfs.com/en/Barrons.com/a19775ee423e7ab050ea975da55c5ede', 'width': 170, 'height': 128, 'tag': '170x128'}]}, 'provider': {'displayName': 'Barrons.com', 'url': 'http://www.barrons.com/'}, 'canonicalUrl': {'url': 'https://www.barrons.com/articles/microsoft-ferrari-chipotle-walmart-quality-stocks-50086756?siteid=yhoof2&yptr=yahoo', 'site': 'finance', 'region': 'US', 'lang': 'en-US'}, 'clickThroughUrl': None, 'metadata': {'editorsPick': False}, 'finance': {'premiumFinance': {'isPremiumNews': False, 'isPremiumFreeNews': False}}, 'storyline': None}, {'id': '36f713f1-e761-3bef-95b5-02f6aad67081', 'contentType': 'STORY', 'title': 'Microsoft Stock Marks 7th Straight Down Week, Plumbs New Low In 2025; Is MSFT A Buy In March, Or Is It A Sell?', 'description': '', 'summary': \"Is Microsoft a buy or perhaps even a sell in March?  This story on the legendary growth company examines key measures such as profits and sales, relative strength in the market, and the quantity and quality of fund ownership in Microsoft stock.  During Monday's bearish trading session, Microsoft stock slid 3.3% in significantly above-average volume and made a year-to-date low of 377.22.\", 'pubDate': '2025-03-14T20:30:19Z', 'displayTime': '2025-03-14T20:30:19Z', 'isHosted': False, 'bypassModal': False, 'previewUrl': 'https://finance.yahoo.com/m/36f713f1-e761-3bef-95b5-02f6aad67081/microsoft-stock-marks-7th.html', 'thumbnail': {'originalUrl': 'https://media.zenfs.com/en/ibd.com/b9f70b1bcd23bee9f2f3639b70b765a8', 'originalWidth': 1000, 'originalHeight': 563, 'caption': '', 'resolutions': [{'url': 'https://s.yimg.com/uu/api/res/1.2/ibewfdyAwUSGE8M4zQsC0Q--~B/aD01NjM7dz0xMDAwO2FwcGlkPXl0YWNoeW9u/https://media.zenfs.com/en/ibd.com/b9f70b1bcd23bee9f2f3639b70b765a8', 'width': 1000, 'height': 563, 'tag': 'original'}, {'url': 'https://s.yimg.com/uu/api/res/1.2/0GripddyyTELvs9xRYJJeA--~B/Zmk9c3RyaW07aD0xMjg7dz0xNzA7YXBwaWQ9eXRhY2h5b24-/https://media.zenfs.com/en/ibd.com/b9f70b1bcd23bee9f2f3639b70b765a8', 'width': 170, 'height': 128, 'tag': '170x128'}]}, 'provider': {'displayName': \"Investor's Business Daily\", 'url': 'http://www.investors.com/'}, 'canonicalUrl': {'url': 'https://www.investors.com/research/microsoft-msft-stock-buy-sell-in-march/?src=A00220&yptr=yahoo', 'site': 'finance', 'region': 'US', 'lang': 'en-US'}, 'clickThroughUrl': None, 'metadata': {'editorsPick': False}, 'finance': {'premiumFinance': {'isPremiumNews': False, 'isPremiumFreeNews': False}}, 'storyline': None}, {'id': '666371a0-4505-3d25-96f2-8ea8e0a130ec', 'contentType': 'STORY', 'title': 'Energy Execs Warn Electricians Are Hard to Find. It Could Slow the AI Data Center Boom.', 'description': '', 'summary': 'Data centers have sophisticated electrical connections and cooling systems. Companies need electricians to manage all of it, but they’re in short supply.', 'pubDate': '2025-03-14T20:26:00Z', 'displayTime': '2025-03-14T20:26:00Z', 'isHosted': False, 'bypassModal': False, 'previewUrl': 'https://finance.yahoo.com/m/666371a0-4505-3d25-96f2-8ea8e0a130ec/energy-execs-warn.html', 'thumbnail': {'originalUrl': 'https://media.zenfs.com/en/Barrons.com/ff2da3675570822de8bbdcf226e0fd7c', 'originalWidth': 1280, 'originalHeight': 640, 'caption': '', 'resolutions': [{'url': 'https://s.yimg.com/uu/api/res/1.2/TvtPi57Bid3D1bez0TdEmw--~B/aD02NDA7dz0xMjgwO2FwcGlkPXl0YWNoeW9u/https://media.zenfs.com/en/Barrons.com/ff2da3675570822de8bbdcf226e0fd7c', 'width': 1280, 'height': 640, 'tag': 'original'}, {'url': 'https://s.yimg.com/uu/api/res/1.2/PmR81OM2ZudtBEIZQTmxng--~B/Zmk9c3RyaW07aD0xMjg7dz0xNzA7YXBwaWQ9eXRhY2h5b24-/https://media.zenfs.com/en/Barrons.com/ff2da3675570822de8bbdcf226e0fd7c', 'width': 170, 'height': 128, 'tag': '170x128'}]}, 'provider': {'displayName': 'Barrons.com', 'url': 'http://www.barrons.com/'}, 'canonicalUrl': {'url': 'https://www.barrons.com/articles/electricians-ai-shortage-blackrock-microsoft-db2fe5bc?siteid=yhoof2&yptr=yahoo', 'site': 'finance', 'region': 'US', 'lang': 'en-US'}, 'clickThroughUrl': None, 'metadata': {'editorsPick': False}, 'finance': {'premiumFinance': {'isPremiumNews': False, 'isPremiumFreeNews': False}}, 'storyline': None}, {'id': '0fbacb6a-4fb9-3127-854c-26affa64f1fa', 'contentType': 'STORY', 'title': 'Microsoft Corporation (NASDAQ:MSFT) Upgraded to ‘Buy’ as AI Investment Strategy Gains Traction', 'description': '', 'summary': 'We recently published a list of 10 AI Stocks On Wall Street’s Radar. In this article, we are going to take a look at where Microsoft Corporation (NASDAQ:MSFT) stands against other AI stocks that are on Wall Street’s radar today. Unlike other companies, OpenAI does not struggle with market demand; noted Oliver Jay, managing director […]', 'pubDate': '2025-03-14T20:14:45Z', 'displayTime': '2025-03-14T20:14:45Z', 'isHosted': True, 'bypassModal': False, 'previewUrl': None, 'thumbnail': {'originalUrl': 'https://media.zenfs.com/en/insidermonkey.com/8357d4801c2f5a834455cbcc99383b11', 'originalWidth': 4288, 'originalHeight': 2848, 'caption': \"Microsoft Corporation (NASDAQ:MSFT) Upgraded to 'Buy' as AI Investment Strategy Gains Traction\", 'resolutions': [{'url': 'https://s.yimg.com/uu/api/res/1.2/EheKJXdeS8GFjKsYs8U2pg--~B/aD0yODQ4O3c9NDI4ODthcHBpZD15dGFjaHlvbg--/https://media.zenfs.com/en/insidermonkey.com/8357d4801c2f5a834455cbcc99383b11', 'width': 4288, 'height': 2848, 'tag': 'original'}, {'url': 'https://s.yimg.com/uu/api/res/1.2/KNpw.xxXpLvppi15Ai7h.w--~B/Zmk9c3RyaW07aD0xMjg7dz0xNzA7YXBwaWQ9eXRhY2h5b24-/https://media.zenfs.com/en/insidermonkey.com/8357d4801c2f5a834455cbcc99383b11', 'width': 170, 'height': 128, 'tag': '170x128'}]}, 'provider': {'displayName': 'Insider Monkey', 'url': 'http://www.insidermonkey.com'}, 'canonicalUrl': {'url': 'https://finance.yahoo.com/news/microsoft-corporation-nasdaq-msft-upgraded-201445899.html', 'site': 'finance', 'region': 'US', 'lang': 'en-US'}, 'clickThroughUrl': {'url': 'https://finance.yahoo.com/news/microsoft-corporation-nasdaq-msft-upgraded-201445899.html', 'site': 'finance', 'region': 'US', 'lang': 'en-US'}, 'metadata': {'editorsPick': False}, 'finance': {'premiumFinance': {'isPremiumNews': False, 'isPremiumFreeNews': False}}, 'storyline': None}, {'id': 'ece0b6f3-6ab7-3271-83b6-39e0307e982f', 'contentType': 'STORY', 'title': 'The Nasdaq Just Hit Correction Territory: Buy This Unstoppable Stock at a Discount', 'description': '', 'summary': 'Down over 13% from its all-time high (achieved in December), the Nasdaq Composite\\xa0is officially in a correction, which is defined as a drawdown of at least 10%.  After falling by 4% on Monday, the Nasdaq Composite ticked down again on Tuesday as the broader market sell-off intensified across the major indexes.  Major tech stocks like Microsoft (NASDAQ: MSFT) and Apple are down 10% and 12%, respectively.', 'pubDate': '2025-03-14T19:30:00Z', 'displayTime': '2025-03-14T19:30:00Z', 'isHosted': True, 'bypassModal': False, 'previewUrl': None, 'thumbnail': {'originalUrl': 'https://media.zenfs.com/en/motleyfool.com/8bd1977dae01edc0ea578724ba6283d3', 'originalWidth': 1201, 'originalHeight': 804, 'caption': 'A person working on a laptop computer while sitting at a desk by a window. ', 'resolutions': [{'url': 'https://s.yimg.com/uu/api/res/1.2/2OspDIkIAGni.iEB7D1t9Q--~B/aD04MDQ7dz0xMjAxO2FwcGlkPXl0YWNoeW9u/https://media.zenfs.com/en/motleyfool.com/8bd1977dae01edc0ea578724ba6283d3', 'width': 1201, 'height': 804, 'tag': 'original'}, {'url': 'https://s.yimg.com/uu/api/res/1.2/Mo5dcpJToLA2fl.JVEX4dg--~B/Zmk9c3RyaW07aD0xMjg7dz0xNzA7YXBwaWQ9eXRhY2h5b24-/https://media.zenfs.com/en/motleyfool.com/8bd1977dae01edc0ea578724ba6283d3', 'width': 170, 'height': 128, 'tag': '170x128'}]}, 'provider': {'displayName': 'Motley Fool', 'url': 'http://www.fool.com/'}, 'canonicalUrl': {'url': 'https://www.fool.com/investing/2025/03/14/nasdaq-correction-buy-growth-stock-microsoft/?source=eptyholnk0000202&utm_source=yahoo-host-full&utm_medium=feed&utm_campaign=article&referring_guid=39e707e1-b1a6-4c7e-b46e-943d9736f04b', 'site': 'finance', 'region': 'US', 'lang': 'en-US'}, 'clickThroughUrl': {'url': 'https://finance.yahoo.com/news/nasdaq-just-hit-correction-territory-193000756.html', 'site': 'finance', 'region': 'US', 'lang': 'en-US'}, 'metadata': {'editorsPick': False}, 'finance': {'premiumFinance': {'isPremiumNews': False, 'isPremiumFreeNews': False}}, 'storyline': None}, {'id': 'e15e623f-00d4-3e3f-9ba8-38e3e6697ce0', 'contentType': 'STORY', 'title': 'The Mag 7 Stocks Have Gotten Crushed. Buy These 4 Now.', 'description': '', 'summary': 'Amazon.com may be the best bet among the Magnificent Seven. These other three stocks look attractive, too.', 'pubDate': '2025-03-14T19:28:00Z', 'displayTime': '2025-03-14T19:28:00Z', 'isHosted': False, 'bypassModal': False, 'previewUrl': 'https://finance.yahoo.com/m/e15e623f-00d4-3e3f-9ba8-38e3e6697ce0/the-mag-7-stocks-have-gotten.html', 'thumbnail': {'originalUrl': 'https://media.zenfs.com/en/Barrons.com/cd77a65fe8f9ed28af947363e2eebe80', 'originalWidth': 1280, 'originalHeight': 640, 'caption': '', 'resolutions': [{'url': 'https://s.yimg.com/uu/api/res/1.2/LOvzOAlbE3IK.m7PRWVB0Q--~B/aD02NDA7dz0xMjgwO2FwcGlkPXl0YWNoeW9u/https://media.zenfs.com/en/Barrons.com/cd77a65fe8f9ed28af947363e2eebe80', 'width': 1280, 'height': 640, 'tag': 'original'}, {'url': 'https://s.yimg.com/uu/api/res/1.2/_7Y2WMpX6oWrUWSyk5I75A--~B/Zmk9c3RyaW07aD0xMjg7dz0xNzA7YXBwaWQ9eXRhY2h5b24-/https://media.zenfs.com/en/Barrons.com/cd77a65fe8f9ed28af947363e2eebe80', 'width': 170, 'height': 128, 'tag': '170x128'}]}, 'provider': {'displayName': 'Barrons.com', 'url': 'http://www.barrons.com/'}, 'canonicalUrl': {'url': 'https://www.barrons.com/articles/buy-amazon-nvidia-meta-alphabet-mag-7-stocks-c2542025?siteid=yhoof2&yptr=yahoo', 'site': 'finance', 'region': 'US', 'lang': 'en-US'}, 'clickThroughUrl': None, 'metadata': {'editorsPick': False}, 'finance': {'premiumFinance': {'isPremiumNews': False, 'isPremiumFreeNews': False}}, 'storyline': None}, {'id': '4205eaa9-f620-3a0b-a81a-0e82c7c9fd0b', 'contentType': 'STORY', 'title': 'Magnificent Seven Stocks: Nvidia, Meta, Tesla Rally', 'description': '', 'summary': 'Dubbed the Magnificent Seven stocks, Apple, Microsoft, Google parent Alphabet, Amazon.com, Nvidia, Meta Platforms and Tesla lived up to their name in 2024 with solid gains. Through the first two months of 2025, however, performance for these mega-cap stocks has been mostly negative thus far.', 'pubDate': '2025-03-14T18:27:42Z', 'displayTime': '2025-03-14T18:27:42Z', 'isHosted': False, 'bypassModal': False, 'previewUrl': 'https://finance.yahoo.com/m/4205eaa9-f620-3a0b-a81a-0e82c7c9fd0b/magnificent-seven-stocks-.html', 'thumbnail': {'originalUrl': 'https://media.zenfs.com/en/ibd.com/0682fdd5dad13df00d702863d79378a1', 'originalWidth': 1000, 'originalHeight': 563, 'caption': '', 'resolutions': [{'url': 'https://s.yimg.com/uu/api/res/1.2/dH2T4UlHg7A40njz2aVZLw--~B/aD01NjM7dz0xMDAwO2FwcGlkPXl0YWNoeW9u/https://media.zenfs.com/en/ibd.com/0682fdd5dad13df00d702863d79378a1', 'width': 1000, 'height': 563, 'tag': 'original'}, {'url': 'https://s.yimg.com/uu/api/res/1.2/uNyO8ptuWsHDEOneeaLn9A--~B/Zmk9c3RyaW07aD0xMjg7dz0xNzA7YXBwaWQ9eXRhY2h5b24-/https://media.zenfs.com/en/ibd.com/0682fdd5dad13df00d702863d79378a1', 'width': 170, 'height': 128, 'tag': '170x128'}]}, 'provider': {'displayName': \"Investor's Business Daily\", 'url': 'http://www.investors.com/'}, 'canonicalUrl': {'url': 'https://www.investors.com/research/magnificent-seven-stocks-march-2025/?src=A00220&yptr=yahoo', 'site': 'finance', 'region': 'US', 'lang': 'en-US'}, 'clickThroughUrl': None, 'metadata': {'editorsPick': False}, 'finance': {'premiumFinance': {'isPremiumNews': False, 'isPremiumFreeNews': False}}, 'storyline': None}, {'id': '662fcf06-54aa-30f5-a4fb-84582bf71ba4', 'contentType': 'STORY', 'title': 'Billions In AI Capex May Already Be Paying Off. How We Know.', 'description': '', 'summary': 'A new IPO filing from start-up CoreWeave suggests that every dollar put into the AI cloud is quickly paying off thanks to rapid growth rates in the business.', 'pubDate': '2025-03-14T17:50:00Z', 'displayTime': '2025-03-14T17:50:00Z', 'isHosted': False, 'bypassModal': False, 'previewUrl': 'https://finance.yahoo.com/m/662fcf06-54aa-30f5-a4fb-84582bf71ba4/billions-in-ai-capex-may.html', 'thumbnail': {'originalUrl': 'https://media.zenfs.com/en/Barrons.com/b33bda8ea08a63642347714972fda1f9', 'originalWidth': 1280, 'originalHeight': 640, 'caption': '', 'resolutions': [{'url': 'https://s.yimg.com/uu/api/res/1.2/QyCfIWH7gJaxnyXJQiEEuQ--~B/aD02NDA7dz0xMjgwO2FwcGlkPXl0YWNoeW9u/https://media.zenfs.com/en/Barrons.com/b33bda8ea08a63642347714972fda1f9', 'width': 1280, 'height': 640, 'tag': 'original'}, {'url': 'https://s.yimg.com/uu/api/res/1.2/eBIk8.7zHBlKww0G4CixkA--~B/Zmk9c3RyaW07aD0xMjg7dz0xNzA7YXBwaWQ9eXRhY2h5b24-/https://media.zenfs.com/en/Barrons.com/b33bda8ea08a63642347714972fda1f9', 'width': 170, 'height': 128, 'tag': '170x128'}]}, 'provider': {'displayName': 'Barrons.com', 'url': 'http://www.barrons.com/'}, 'canonicalUrl': {'url': 'https://www.barrons.com/articles/ai-stocks-nvidia-amazon-microsoft-coreweave-ipo-ddee09ff?siteid=yhoof2&yptr=yahoo', 'site': 'finance', 'region': 'US', 'lang': 'en-US'}, 'clickThroughUrl': None, 'metadata': {'editorsPick': False}, 'finance': {'premiumFinance': {'isPremiumNews': False, 'isPremiumFreeNews': False}}, 'storyline': None}]\n"
     ]
    }
   ],
   "source": [
    "for i in range(len(all_news)):\n",
    "    all_news[i] = all_news[i][\"content\"]\n",
    "\n",
    "print(all_news)"
   ]
  },
  {
   "cell_type": "code",
   "execution_count": null,
   "metadata": {},
   "outputs": [
    {
     "name": "stdout",
     "output_type": "stream",
     "text": [
      "                                     id contentType  \\\n",
      "0  53b89b5d-de89-35e9-8b09-1d6f3a09d815       VIDEO   \n",
      "1  f471b541-647a-3dd4-aaca-195c27555c02       STORY   \n",
      "2  6dd03b4a-a379-3c96-8641-c87010a3a3a6       STORY   \n",
      "3  36f713f1-e761-3bef-95b5-02f6aad67081       STORY   \n",
      "4  666371a0-4505-3d25-96f2-8ea8e0a130ec       STORY   \n",
      "5  0fbacb6a-4fb9-3127-854c-26affa64f1fa       STORY   \n",
      "6  ece0b6f3-6ab7-3271-83b6-39e0307e982f       STORY   \n",
      "7  e15e623f-00d4-3e3f-9ba8-38e3e6697ce0       STORY   \n",
      "8  4205eaa9-f620-3a0b-a81a-0e82c7c9fd0b       STORY   \n",
      "9  662fcf06-54aa-30f5-a4fb-84582bf71ba4       STORY   \n",
      "\n",
      "                                               title  \\\n",
      "0  Antitrust under Trump: Regulators lock in on B...   \n",
      "1  UBS Reiterates ‘Buy’ on Microsoft Corporation ...   \n",
      "2  Microsoft, Ferrari, and Other High Quality Sto...   \n",
      "3  Microsoft Stock Marks 7th Straight Down Week, ...   \n",
      "4  Energy Execs Warn Electricians Are Hard to Fin...   \n",
      "5  Microsoft Corporation (NASDAQ:MSFT) Upgraded t...   \n",
      "6  The Nasdaq Just Hit Correction Territory: Buy ...   \n",
      "7  The Mag 7 Stocks Have Gotten Crushed. Buy Thes...   \n",
      "8  Magnificent Seven Stocks: Nvidia, Meta, Tesla ...   \n",
      "9  Billions In AI Capex May Already Be Paying Off...   \n",
      "\n",
      "                                         description  \\\n",
      "0  <p>Antitrust regulators aren't backing down fr...   \n",
      "1                                                      \n",
      "2                                                      \n",
      "3                                                      \n",
      "4                                                      \n",
      "5                                                      \n",
      "6                                                      \n",
      "7                                                      \n",
      "8                                                      \n",
      "9                                                      \n",
      "\n",
      "                                             summary               pubDate  \\\n",
      "0  Antitrust regulators aren't backing down from ...  2025-03-14T21:25:08Z   \n",
      "1  We recently compiled a list of the 10 High Fly...  2025-03-14T22:22:18Z   \n",
      "2  As the outlook for stocks grows increasingly u...  2025-03-14T20:36:00Z   \n",
      "3  Is Microsoft a buy or perhaps even a sell in M...  2025-03-14T20:30:19Z   \n",
      "4  Data centers have sophisticated electrical con...  2025-03-14T20:26:00Z   \n",
      "5  We recently published a list of 10 AI Stocks O...  2025-03-14T20:14:45Z   \n",
      "6  Down over 13% from its all-time high (achieved...  2025-03-14T19:30:00Z   \n",
      "7  Amazon.com may be the best bet among the Magni...  2025-03-14T19:28:00Z   \n",
      "8  Dubbed the Magnificent Seven stocks, Apple, Mi...  2025-03-14T18:27:42Z   \n",
      "9  A new IPO filing from start-up CoreWeave sugge...  2025-03-14T17:50:00Z   \n",
      "\n",
      "            displayTime  isHosted  bypassModal  \\\n",
      "0                            True        False   \n",
      "1  2025-03-14T22:22:18Z      True        False   \n",
      "2  2025-03-14T20:36:00Z     False        False   \n",
      "3  2025-03-14T20:30:19Z     False        False   \n",
      "4  2025-03-14T20:26:00Z     False        False   \n",
      "5  2025-03-14T20:14:45Z      True        False   \n",
      "6  2025-03-14T19:30:00Z      True        False   \n",
      "7  2025-03-14T19:28:00Z     False        False   \n",
      "8  2025-03-14T18:27:42Z     False        False   \n",
      "9  2025-03-14T17:50:00Z     False        False   \n",
      "\n",
      "                                          previewUrl  \\\n",
      "0                                               None   \n",
      "1                                               None   \n",
      "2  https://finance.yahoo.com/m/6dd03b4a-a379-3c96...   \n",
      "3  https://finance.yahoo.com/m/36f713f1-e761-3bef...   \n",
      "4  https://finance.yahoo.com/m/666371a0-4505-3d25...   \n",
      "5                                               None   \n",
      "6                                               None   \n",
      "7  https://finance.yahoo.com/m/e15e623f-00d4-3e3f...   \n",
      "8  https://finance.yahoo.com/m/4205eaa9-f620-3a0b...   \n",
      "9  https://finance.yahoo.com/m/662fcf06-54aa-30f5...   \n",
      "\n",
      "                                           thumbnail  \\\n",
      "0  {'originalUrl': 'https://s.yimg.com/os/creatr-...   \n",
      "1  {'originalUrl': 'https://media.zenfs.com/en/in...   \n",
      "2  {'originalUrl': 'https://media.zenfs.com/en/Ba...   \n",
      "3  {'originalUrl': 'https://media.zenfs.com/en/ib...   \n",
      "4  {'originalUrl': 'https://media.zenfs.com/en/Ba...   \n",
      "5  {'originalUrl': 'https://media.zenfs.com/en/in...   \n",
      "6  {'originalUrl': 'https://media.zenfs.com/en/mo...   \n",
      "7  {'originalUrl': 'https://media.zenfs.com/en/Ba...   \n",
      "8  {'originalUrl': 'https://media.zenfs.com/en/ib...   \n",
      "9  {'originalUrl': 'https://media.zenfs.com/en/Ba...   \n",
      "\n",
      "                                            provider  \\\n",
      "0  {'displayName': 'Yahoo Finance Video', 'url': ...   \n",
      "1  {'displayName': 'Insider Monkey', 'url': 'http...   \n",
      "2  {'displayName': 'Barrons.com', 'url': 'http://...   \n",
      "3  {'displayName': 'Investor's Business Daily', '...   \n",
      "4  {'displayName': 'Barrons.com', 'url': 'http://...   \n",
      "5  {'displayName': 'Insider Monkey', 'url': 'http...   \n",
      "6  {'displayName': 'Motley Fool', 'url': 'http://...   \n",
      "7  {'displayName': 'Barrons.com', 'url': 'http://...   \n",
      "8  {'displayName': 'Investor's Business Daily', '...   \n",
      "9  {'displayName': 'Barrons.com', 'url': 'http://...   \n",
      "\n",
      "                                        canonicalUrl  \\\n",
      "0  {'url': 'https://finance.yahoo.com/video/antit...   \n",
      "1  {'url': 'https://finance.yahoo.com/news/ubs-re...   \n",
      "2  {'url': 'https://www.barrons.com/articles/micr...   \n",
      "3  {'url': 'https://www.investors.com/research/mi...   \n",
      "4  {'url': 'https://www.barrons.com/articles/elec...   \n",
      "5  {'url': 'https://finance.yahoo.com/news/micros...   \n",
      "6  {'url': 'https://www.fool.com/investing/2025/0...   \n",
      "7  {'url': 'https://www.barrons.com/articles/buy-...   \n",
      "8  {'url': 'https://www.investors.com/research/ma...   \n",
      "9  {'url': 'https://www.barrons.com/articles/ai-s...   \n",
      "\n",
      "                                     clickThroughUrl                metadata  \\\n",
      "0  {'url': 'https://finance.yahoo.com/video/antit...   {'editorsPick': True}   \n",
      "1  {'url': 'https://finance.yahoo.com/news/ubs-re...  {'editorsPick': False}   \n",
      "2                                               None  {'editorsPick': False}   \n",
      "3                                               None  {'editorsPick': False}   \n",
      "4                                               None  {'editorsPick': False}   \n",
      "5  {'url': 'https://finance.yahoo.com/news/micros...  {'editorsPick': False}   \n",
      "6  {'url': 'https://finance.yahoo.com/news/nasdaq...  {'editorsPick': False}   \n",
      "7                                               None  {'editorsPick': False}   \n",
      "8                                               None  {'editorsPick': False}   \n",
      "9                                               None  {'editorsPick': False}   \n",
      "\n",
      "                                             finance  \\\n",
      "0  {'premiumFinance': {'isPremiumNews': False, 'i...   \n",
      "1  {'premiumFinance': {'isPremiumNews': False, 'i...   \n",
      "2  {'premiumFinance': {'isPremiumNews': False, 'i...   \n",
      "3  {'premiumFinance': {'isPremiumNews': False, 'i...   \n",
      "4  {'premiumFinance': {'isPremiumNews': False, 'i...   \n",
      "5  {'premiumFinance': {'isPremiumNews': False, 'i...   \n",
      "6  {'premiumFinance': {'isPremiumNews': False, 'i...   \n",
      "7  {'premiumFinance': {'isPremiumNews': False, 'i...   \n",
      "8  {'premiumFinance': {'isPremiumNews': False, 'i...   \n",
      "9  {'premiumFinance': {'isPremiumNews': False, 'i...   \n",
      "\n",
      "                                           storyline  \n",
      "0  {'storylineItems': [{'content': {'id': 'aa382e...  \n",
      "1                                               None  \n",
      "2                                               None  \n",
      "3                                               None  \n",
      "4                                               None  \n",
      "5                                               None  \n",
      "6                                               None  \n",
      "7                                               None  \n",
      "8                                               None  \n",
      "9                                               None  \n"
     ]
    }
   ],
   "source": [
    "hope = pd.DataFrame.from_records(all_news)\n",
    "print(hope)"
   ]
  },
  {
   "cell_type": "code",
   "execution_count": 84,
   "metadata": {},
   "outputs": [
    {
     "name": "stdout",
     "output_type": "stream",
     "text": [
      "<class 'pandas.core.frame.DataFrame'>\n",
      "RangeIndex: 10 entries, 0 to 9\n",
      "Data columns (total 17 columns):\n",
      " #   Column           Non-Null Count  Dtype \n",
      "---  ------           --------------  ----- \n",
      " 0   id               10 non-null     object\n",
      " 1   contentType      10 non-null     object\n",
      " 2   title            10 non-null     object\n",
      " 3   description      10 non-null     object\n",
      " 4   summary          10 non-null     object\n",
      " 5   pubDate          10 non-null     object\n",
      " 6   displayTime      10 non-null     object\n",
      " 7   isHosted         10 non-null     bool  \n",
      " 8   bypassModal      10 non-null     bool  \n",
      " 9   previewUrl       6 non-null      object\n",
      " 10  thumbnail        10 non-null     object\n",
      " 11  provider         10 non-null     object\n",
      " 12  canonicalUrl     10 non-null     object\n",
      " 13  clickThroughUrl  4 non-null      object\n",
      " 14  metadata         10 non-null     object\n",
      " 15  finance          10 non-null     object\n",
      " 16  storyline        1 non-null      object\n",
      "dtypes: bool(2), object(15)\n",
      "memory usage: 1.3+ KB\n",
      "None\n"
     ]
    }
   ],
   "source": [
    "print(hope.info())"
   ]
  },
  {
   "cell_type": "code",
   "execution_count": null,
   "metadata": {},
   "outputs": [
    {
     "name": "stdout",
     "output_type": "stream",
     "text": [
      "                                     id contentType  \\\n",
      "0  53b89b5d-de89-35e9-8b09-1d6f3a09d815       VIDEO   \n",
      "1  f471b541-647a-3dd4-aaca-195c27555c02       STORY   \n",
      "2  6dd03b4a-a379-3c96-8641-c87010a3a3a6       STORY   \n",
      "3  36f713f1-e761-3bef-95b5-02f6aad67081       STORY   \n",
      "4  666371a0-4505-3d25-96f2-8ea8e0a130ec       STORY   \n",
      "5  0fbacb6a-4fb9-3127-854c-26affa64f1fa       STORY   \n",
      "6  ece0b6f3-6ab7-3271-83b6-39e0307e982f       STORY   \n",
      "7  e15e623f-00d4-3e3f-9ba8-38e3e6697ce0       STORY   \n",
      "8  4205eaa9-f620-3a0b-a81a-0e82c7c9fd0b       STORY   \n",
      "9  662fcf06-54aa-30f5-a4fb-84582bf71ba4       STORY   \n",
      "\n",
      "                                               title  \\\n",
      "0  Antitrust under Trump: Regulators lock in on B...   \n",
      "1  UBS Reiterates ‘Buy’ on Microsoft Corporation ...   \n",
      "2  Microsoft, Ferrari, and Other High Quality Sto...   \n",
      "3  Microsoft Stock Marks 7th Straight Down Week, ...   \n",
      "4  Energy Execs Warn Electricians Are Hard to Fin...   \n",
      "5  Microsoft Corporation (NASDAQ:MSFT) Upgraded t...   \n",
      "6  The Nasdaq Just Hit Correction Territory: Buy ...   \n",
      "7  The Mag 7 Stocks Have Gotten Crushed. Buy Thes...   \n",
      "8  Magnificent Seven Stocks: Nvidia, Meta, Tesla ...   \n",
      "9  Billions In AI Capex May Already Be Paying Off...   \n",
      "\n",
      "                                             summary               pubDate  \n",
      "0  Antitrust regulators aren't backing down from ...  2025-03-14T21:25:08Z  \n",
      "1  We recently compiled a list of the 10 High Fly...  2025-03-14T22:22:18Z  \n",
      "2  As the outlook for stocks grows increasingly u...  2025-03-14T20:36:00Z  \n",
      "3  Is Microsoft a buy or perhaps even a sell in M...  2025-03-14T20:30:19Z  \n",
      "4  Data centers have sophisticated electrical con...  2025-03-14T20:26:00Z  \n",
      "5  We recently published a list of 10 AI Stocks O...  2025-03-14T20:14:45Z  \n",
      "6  Down over 13% from its all-time high (achieved...  2025-03-14T19:30:00Z  \n",
      "7  Amazon.com may be the best bet among the Magni...  2025-03-14T19:28:00Z  \n",
      "8  Dubbed the Magnificent Seven stocks, Apple, Mi...  2025-03-14T18:27:42Z  \n",
      "9  A new IPO filing from start-up CoreWeave sugge...  2025-03-14T17:50:00Z  \n"
     ]
    }
   ],
   "source": [
    "hope.drop(columns=[\"thumbnail\", \n",
    "                   \"provider\", \n",
    "                   \"canonicalUrl\", \n",
    "                   \"clickThroughUrl\", \n",
    "                   \"finance\", \n",
    "                   \"storyline\", \n",
    "                   \"previewUrl\", \n",
    "                   \"displayTime\", \n",
    "                   \"isHosted\", \n",
    "                   \"bypassModal\", \n",
    "                   \"metadata\", \n",
    "                   \"description\"], \n",
    "          inplace=True)\n",
    "print(hope)\n"
   ]
  }
 ],
 "metadata": {
  "kernelspec": {
   "display_name": "venv",
   "language": "python",
   "name": "python3"
  },
  "language_info": {
   "codemirror_mode": {
    "name": "ipython",
    "version": 3
   },
   "file_extension": ".py",
   "mimetype": "text/x-python",
   "name": "python",
   "nbconvert_exporter": "python",
   "pygments_lexer": "ipython3",
   "version": "3.10.4"
  }
 },
 "nbformat": 4,
 "nbformat_minor": 2
}
